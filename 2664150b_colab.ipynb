{
  "nbformat": 4,
  "nbformat_minor": 0,
  "metadata": {
    "colab": {
      "name": "2664150b_colab.ipynb",
      "provenance": [],
      "collapsed_sections": [],
      "toc_visible": true,
      "include_colab_link": true
    },
    "kernelspec": {
      "name": "python3",
      "display_name": "Python 3"
    },
    "language_info": {
      "name": "python"
    }
  },
  "cells": [
    {
      "cell_type": "markdown",
      "metadata": {
        "id": "view-in-github",
        "colab_type": "text"
      },
      "source": [
        "<a href=\"https://colab.research.google.com/github/arkinbhagat/NLP-Coursework/blob/main/2664150b_colab.ipynb\" target=\"_parent\"><img src=\"https://colab.research.google.com/assets/colab-badge.svg\" alt=\"Open In Colab\"/></a>"
      ]
    },
    {
      "cell_type": "markdown",
      "source": [
        "## Please complete before submission:\n",
        "\n",
        "**Name:** Arkin Bhagat\n",
        "\n",
        "**Student Number:** 2664150B"
      ],
      "metadata": {
        "id": "SqrpBxlL-VR8"
      }
    },
    {
      "cell_type": "markdown",
      "source": [
        "# TextAs Data Coursework\n",
        "\n",
        "Please fill in this Google Colab by following the prompts from the coursework specification document and inserting your code in each relevant section.\n",
        "\n",
        "- You should submit this notebook together with your report. (Two separate files)\n",
        "- Specifcally you will submit **both a PDF with the report (so we can easily read it) and a .ipynb file containing the source code of your experiments as evidence**. Please do clean up your code where possible before submitting it.\n",
        "- You may add whatever additional code and text blocks as needed (perhaps with [nice formatting](https://colab.research.google.com/notebooks/markdown_guide.ipynb)). Please keep the major headings (for the question numbers) the same."
      ],
      "metadata": {
        "id": "SWZ4t4Ut91ur"
      }
    },
    {
      "cell_type": "markdown",
      "source": [
        "As with labs, please remember to **Save a Copy to Drive** when you start working on this so that it is saved. Completing the labs provides essential knowledge for the successful completion of the coursework. "
      ],
      "metadata": {
        "id": "EstYvRPS_Crg"
      }
    },
    {
      "cell_type": "markdown",
      "source": [
        "## Downloading and loading Data\n",
        "\n",
        "This code loads the prepared split of the Reddit data into training, validation and testing set."
      ],
      "metadata": {
        "id": "DyFYH3v7-ix0"
      }
    },
    {
      "cell_type": "code",
      "execution_count": null,
      "metadata": {
        "colab": {
          "base_uri": "https://localhost:8080/"
        },
        "id": "tG_zJqYH9sTd",
        "outputId": "166a4ce4-a97c-4176-8f98-0c7636cb36fc"
      },
      "outputs": [
        {
          "output_type": "stream",
          "name": "stdout",
          "text": [
            "--2022-03-21 16:03:17--  https://gla-my.sharepoint.com/:u:/g/personal/jake_lever_glasgow_ac_uk/EapVNOIV84tPnQuuFBNgG9UBYIWipQ9JL4QTfSgRtIacBw?download=1\n",
            "Resolving gla-my.sharepoint.com (gla-my.sharepoint.com)... 13.107.136.9, 13.107.138.9\n",
            "Connecting to gla-my.sharepoint.com (gla-my.sharepoint.com)|13.107.136.9|:443... connected.\n",
            "HTTP request sent, awaiting response... 302 Found\n",
            "Location: /personal/jake_lever_glasgow_ac_uk/Documents/Teaching/reddit_data_split.zip [following]\n",
            "--2022-03-21 16:03:17--  https://gla-my.sharepoint.com/personal/jake_lever_glasgow_ac_uk/Documents/Teaching/reddit_data_split.zip\n",
            "Reusing existing connection to gla-my.sharepoint.com:443.\n",
            "HTTP request sent, awaiting response... 200 OK\n",
            "Length: 468327 (457K) [application/x-zip-compressed]\n",
            "Saving to: ‘reddit_data_split.zip’\n",
            "\n",
            "reddit_data_split.z 100%[===================>] 457.35K  --.-KB/s    in 0.05s   \n",
            "\n",
            "2022-03-21 16:03:18 (8.56 MB/s) - ‘reddit_data_split.zip’ saved [468327/468327]\n",
            "\n",
            "Archive:  reddit_data_split.zip\n",
            "  inflating: reddit_test.json        \n",
            "  inflating: reddit_train.json       \n",
            "  inflating: reddit_val.json         \n"
          ]
        }
      ],
      "source": [
        "!wget -O reddit_data_split.zip https://gla-my.sharepoint.com/:u:/g/personal/jake_lever_glasgow_ac_uk/EapVNOIV84tPnQuuFBNgG9UBYIWipQ9JL4QTfSgRtIacBw?download=1\n",
        "!unzip -o reddit_data_split.zip"
      ]
    },
    {
      "cell_type": "code",
      "source": [
        "import json\n",
        "\n",
        "with open('reddit_train.json') as f:\n",
        "    train_data = json.load(f)\n",
        "with open('reddit_val.json') as f:\n",
        "    validation_data = json.load(f)\n",
        "with open('reddit_test.json') as f:\n",
        "    test_data = json.load(f)\n",
        "\n",
        "print(\"Number of posts in training data:\", len(train_data))\n",
        "print(\"Number of posts in validation data:\", len(validation_data))\n",
        "print(\"Number of posts in test data:\", len(test_data))"
      ],
      "metadata": {
        "colab": {
          "base_uri": "https://localhost:8080/"
        },
        "id": "xCezGTgdRYkj",
        "outputId": "5fccffc4-19b7-4a39-a260-aa37f3f359fc"
      },
      "execution_count": null,
      "outputs": [
        {
          "output_type": "stream",
          "name": "stdout",
          "text": [
            "Number of posts in training data: 1200\n",
            "Number of posts in validation data: 400\n",
            "Number of posts in test data: 400\n"
          ]
        }
      ]
    },
    {
      "cell_type": "markdown",
      "source": [
        "## Q1:"
      ],
      "metadata": {
        "id": "7txBmrCG_tKr"
      }
    },
    {
      "cell_type": "markdown",
      "source": [
        "First, some imports for sklearn, numpy, pandas etc."
      ],
      "metadata": {
        "id": "m79B9Dnx3MbC"
      }
    },
    {
      "cell_type": "code",
      "source": [
        "!pip install eli5\n",
        "\n",
        "import eli5\n",
        "import pandas as pd\n",
        "import numpy as np\n",
        "import spacy\n",
        "import matplotlib.pyplot as plt\n",
        "from collections import Counter\n",
        "from sklearn.dummy import DummyClassifier\n",
        "from sklearn.linear_model import LogisticRegression\n",
        "from sklearn.svm import SVC\n",
        "from sklearn.feature_extraction.text import CountVectorizer\n",
        "from sklearn.feature_extraction.text import TfidfVectorizer\n",
        "from sklearn.metrics import classification_report\n",
        "from sklearn.metrics import multilabel_confusion_matrix\n",
        "from sklearn.metrics import precision_score\n",
        "from sklearn.metrics import recall_score\n",
        "from sklearn.metrics import accuracy_score\n",
        "from sklearn.metrics import fbeta_score\n",
        "from sklearn.model_selection import GridSearchCV\n",
        "from sklearn.pipeline import Pipeline\n",
        "from sklearn.pipeline import FeatureUnion\n",
        "from sklearn.base import BaseEstimator, TransformerMixin\n",
        "from sklearn.metrics import ConfusionMatrixDisplay"
      ],
      "metadata": {
        "id": "7vPaQPCpQ3vq",
        "colab": {
          "base_uri": "https://localhost:8080/"
        },
        "outputId": "1d466c3e-3474-45d0-bc6c-b48300c76b30"
      },
      "execution_count": null,
      "outputs": [
        {
          "output_type": "stream",
          "name": "stdout",
          "text": [
            "Requirement already satisfied: eli5 in /usr/local/lib/python3.7/dist-packages (0.11.0)\n",
            "Requirement already satisfied: scikit-learn>=0.20 in /usr/local/lib/python3.7/dist-packages (from eli5) (1.0.2)\n",
            "Requirement already satisfied: numpy>=1.9.0 in /usr/local/lib/python3.7/dist-packages (from eli5) (1.21.5)\n",
            "Requirement already satisfied: graphviz in /usr/local/lib/python3.7/dist-packages (from eli5) (0.10.1)\n",
            "Requirement already satisfied: scipy in /usr/local/lib/python3.7/dist-packages (from eli5) (1.4.1)\n",
            "Requirement already satisfied: jinja2 in /usr/local/lib/python3.7/dist-packages (from eli5) (2.11.3)\n",
            "Requirement already satisfied: six in /usr/local/lib/python3.7/dist-packages (from eli5) (1.15.0)\n",
            "Requirement already satisfied: attrs>16.0.0 in /usr/local/lib/python3.7/dist-packages (from eli5) (21.4.0)\n",
            "Requirement already satisfied: tabulate>=0.7.7 in /usr/local/lib/python3.7/dist-packages (from eli5) (0.8.9)\n",
            "Requirement already satisfied: joblib>=0.11 in /usr/local/lib/python3.7/dist-packages (from scikit-learn>=0.20->eli5) (1.1.0)\n",
            "Requirement already satisfied: threadpoolctl>=2.0.0 in /usr/local/lib/python3.7/dist-packages (from scikit-learn>=0.20->eli5) (3.1.0)\n",
            "Requirement already satisfied: MarkupSafe>=0.23 in /usr/local/lib/python3.7/dist-packages (from jinja2->eli5) (2.0.1)\n"
          ]
        }
      ]
    },
    {
      "cell_type": "markdown",
      "source": [
        "This cell defines a function for displaying the evaluation summary, and also creates different feature representations (plaintext, one-hot, TF-IDF)."
      ],
      "metadata": {
        "id": "9YXWfGhy3btV"
      }
    },
    {
      "cell_type": "code",
      "source": [
        "def evaluation_summary(description, true_labels, predictions, target_classes):\n",
        "  print(\"Evaluation for: \" + description)\n",
        "  print(classification_report(true_labels, predictions,  digits=3, zero_division=0, target_names=target_classes))\n",
        "  #print('\\nConfusion matrix:\\n',multilabel_confusion_matrix(true_labels, predictions))\n",
        "\n",
        "one_hot_vectorizer = CountVectorizer(binary=True)\n",
        "one_hot_train_features = one_hot_vectorizer.fit_transform(pd.DataFrame(train_data)[\"body\"].tolist())\n",
        "one_hot_validation_features = one_hot_vectorizer.transform(pd.DataFrame(validation_data)['body'])\n",
        "one_hot_test_features = one_hot_vectorizer.transform(pd.DataFrame(test_data)['body'])  \n",
        "\n",
        "TFIDF_vectorizer = TfidfVectorizer()\n",
        "TFIDF_train_features = TFIDF_vectorizer.fit_transform(pd.DataFrame(train_data)[\"body\"].tolist())\n",
        "TFIDF_validation_features = TFIDF_vectorizer.transform(pd.DataFrame(validation_data)['body'])\n",
        "TFIDF_test_features = TFIDF_vectorizer.transform(pd.DataFrame(test_data)['body']) \n",
        "\n",
        "train_features = pd.DataFrame(train_data)[\"body\"].tolist()\n",
        "validation_features = pd.DataFrame(validation_data)[\"body\"].tolist()\n",
        "test_features = pd.DataFrame(test_data)[\"body\"].tolist()"
      ],
      "metadata": {
        "id": "agwklpnLdw17"
      },
      "execution_count": null,
      "outputs": []
    },
    {
      "cell_type": "markdown",
      "source": [
        "### Q1a:"
      ],
      "metadata": {
        "id": "iK9u5izk_wSh"
      }
    },
    {
      "cell_type": "markdown",
      "source": [
        "This cell prints out the labels across each set, with the counts for every subreddit."
      ],
      "metadata": {
        "id": "9fmjuRWfEZP2"
      }
    },
    {
      "cell_type": "code",
      "source": [
        "train_labels = pd.DataFrame(train_data)[\"subreddit\"].tolist()\n",
        "print(\"Training labels: \", train_labels)\n",
        "print(Counter(train_labels),\"\\n\")\n",
        "\n",
        "validation_labels = pd.DataFrame(validation_data)[\"subreddit\"].tolist()\n",
        "print(\"Validation labels: \", validation_labels)\n",
        "print(Counter(validation_labels),\"\\n\")\n",
        "\n",
        "test_labels = pd.DataFrame(test_data)[\"subreddit\"].tolist()\n",
        "print(\"Test labels: \",test_labels)\n",
        "print(Counter(test_labels))\n"
      ],
      "metadata": {
        "colab": {
          "base_uri": "https://localhost:8080/"
        },
        "id": "O7ve27srQH3U",
        "outputId": "fc0fd510-e600-485a-f26c-93c1be5b7d8b"
      },
      "execution_count": null,
      "outputs": [
        {
          "output_type": "stream",
          "name": "stdout",
          "text": [
            "Training labels:  ['PS4', 'pcgaming', 'NintendoSwitch', 'antiMLM', 'HydroHomies', 'PS4', 'HydroHomies', 'Coffee', 'pcgaming', 'xbox', 'PS4', 'xbox', 'pcgaming', 'Coffee', 'NintendoSwitch', 'Coffee', 'PS4', 'Coffee', 'HydroHomies', 'HydroHomies', 'NintendoSwitch', 'pcgaming', 'antiMLM', 'HydroHomies', 'Soda', 'Coffee', 'pcgaming', 'pcgaming', 'Coffee', 'pcgaming', 'Soda', 'Coffee', 'pcgaming', 'antiMLM', 'antiMLM', 'PS4', 'antiMLM', 'antiMLM', 'PS4', 'antiMLM', 'PS4', 'tea', 'Coffee', 'Soda', 'antiMLM', 'pcgaming', 'antiMLM', 'Coffee', 'xbox', 'Coffee', 'NintendoSwitch', 'pcgaming', 'Coffee', 'pcgaming', 'PS4', 'NintendoSwitch', 'Coffee', 'pcgaming', 'HydroHomies', 'xbox', 'Soda', 'antiMLM', 'tea', 'xbox', 'antiMLM', 'xbox', 'Coffee', 'NintendoSwitch', 'HydroHomies', 'Soda', 'NintendoSwitch', 'NintendoSwitch', 'Coffee', 'PS4', 'antiMLM', 'pcgaming', 'Coffee', 'xbox', 'xbox', 'xbox', 'NintendoSwitch', 'HydroHomies', 'xbox', 'Soda', 'Soda', 'NintendoSwitch', 'xbox', 'NintendoSwitch', 'tea', 'Soda', 'NintendoSwitch', 'NintendoSwitch', 'NintendoSwitch', 'pcgaming', 'HydroHomies', 'xbox', 'Soda', 'Coffee', 'tea', 'pcgaming', 'NintendoSwitch', 'pcgaming', 'Soda', 'Soda', 'antiMLM', 'xbox', 'tea', 'Coffee', 'xbox', 'pcgaming', 'HydroHomies', 'NintendoSwitch', 'PS4', 'NintendoSwitch', 'PS4', 'antiMLM', 'Soda', 'PS4', 'xbox', 'NintendoSwitch', 'Soda', 'PS4', 'pcgaming', 'xbox', 'pcgaming', 'pcgaming', 'HydroHomies', 'pcgaming', 'NintendoSwitch', 'antiMLM', 'tea', 'tea', 'pcgaming', 'tea', 'Soda', 'antiMLM', 'xbox', 'Coffee', 'HydroHomies', 'xbox', 'Coffee', 'HydroHomies', 'pcgaming', 'HydroHomies', 'PS4', 'pcgaming', 'xbox', 'pcgaming', 'xbox', 'antiMLM', 'Coffee', 'pcgaming', 'NintendoSwitch', 'tea', 'HydroHomies', 'NintendoSwitch', 'Soda', 'antiMLM', 'antiMLM', 'Coffee', 'pcgaming', 'Soda', 'Coffee', 'antiMLM', 'antiMLM', 'HydroHomies', 'tea', 'PS4', 'pcgaming', 'Soda', 'tea', 'antiMLM', 'NintendoSwitch', 'Soda', 'pcgaming', 'Soda', 'PS4', 'NintendoSwitch', 'antiMLM', 'PS4', 'antiMLM', 'tea', 'PS4', 'NintendoSwitch', 'NintendoSwitch', 'NintendoSwitch', 'PS4', 'xbox', 'HydroHomies', 'xbox', 'NintendoSwitch', 'Coffee', 'PS4', 'Soda', 'HydroHomies', 'Soda', 'tea', 'NintendoSwitch', 'pcgaming', 'xbox', 'antiMLM', 'antiMLM', 'Soda', 'HydroHomies', 'antiMLM', 'HydroHomies', 'Soda', 'antiMLM', 'pcgaming', 'antiMLM', 'PS4', 'xbox', 'antiMLM', 'HydroHomies', 'Coffee', 'antiMLM', 'xbox', 'HydroHomies', 'pcgaming', 'xbox', 'antiMLM', 'PS4', 'pcgaming', 'xbox', 'HydroHomies', 'tea', 'pcgaming', 'HydroHomies', 'xbox', 'PS4', 'Coffee', 'PS4', 'antiMLM', 'PS4', 'xbox', 'PS4', 'NintendoSwitch', 'PS4', 'xbox', 'Soda', 'Soda', 'HydroHomies', 'pcgaming', 'pcgaming', 'Coffee', 'tea', 'antiMLM', 'HydroHomies', 'antiMLM', 'NintendoSwitch', 'Coffee', 'NintendoSwitch', 'Soda', 'NintendoSwitch', 'xbox', 'xbox', 'xbox', 'tea', 'NintendoSwitch', 'HydroHomies', 'Coffee', 'pcgaming', 'antiMLM', 'pcgaming', 'pcgaming', 'Soda', 'Coffee', 'xbox', 'tea', 'tea', 'antiMLM', 'xbox', 'PS4', 'PS4', 'xbox', 'NintendoSwitch', 'HydroHomies', 'Coffee', 'tea', 'Coffee', 'Coffee', 'PS4', 'NintendoSwitch', 'HydroHomies', 'HydroHomies', 'Coffee', 'pcgaming', 'tea', 'PS4', 'Coffee', 'PS4', 'antiMLM', 'PS4', 'NintendoSwitch', 'tea', 'xbox', 'HydroHomies', 'antiMLM', 'Coffee', 'antiMLM', 'NintendoSwitch', 'HydroHomies', 'Coffee', 'Coffee', 'Coffee', 'xbox', 'antiMLM', 'antiMLM', 'Soda', 'xbox', 'NintendoSwitch', 'tea', 'antiMLM', 'Soda', 'Coffee', 'antiMLM', 'antiMLM', 'tea', 'HydroHomies', 'xbox', 'pcgaming', 'tea', 'Coffee', 'Soda', 'pcgaming', 'Coffee', 'PS4', 'pcgaming', 'xbox', 'Coffee', 'pcgaming', 'Coffee', 'tea', 'tea', 'Soda', 'Coffee', 'NintendoSwitch', 'Coffee', 'tea', 'Soda', 'NintendoSwitch', 'HydroHomies', 'NintendoSwitch', 'tea', 'PS4', 'pcgaming', 'antiMLM', 'NintendoSwitch', 'tea', 'tea', 'HydroHomies', 'HydroHomies', 'HydroHomies', 'HydroHomies', 'HydroHomies', 'HydroHomies', 'antiMLM', 'PS4', 'NintendoSwitch', 'tea', 'PS4', 'antiMLM', 'xbox', 'HydroHomies', 'NintendoSwitch', 'pcgaming', 'tea', 'pcgaming', 'xbox', 'xbox', 'tea', 'HydroHomies', 'antiMLM', 'HydroHomies', 'xbox', 'Coffee', 'PS4', 'xbox', 'antiMLM', 'xbox', 'PS4', 'NintendoSwitch', 'tea', 'NintendoSwitch', 'tea', 'PS4', 'xbox', 'HydroHomies', 'HydroHomies', 'Coffee', 'NintendoSwitch', 'antiMLM', 'PS4', 'HydroHomies', 'NintendoSwitch', 'antiMLM', 'xbox', 'HydroHomies', 'NintendoSwitch', 'pcgaming', 'antiMLM', 'PS4', 'antiMLM', 'HydroHomies', 'antiMLM', 'tea', 'pcgaming', 'HydroHomies', 'HydroHomies', 'antiMLM', 'NintendoSwitch', 'NintendoSwitch', 'Coffee', 'Soda', 'HydroHomies', 'PS4', 'pcgaming', 'antiMLM', 'HydroHomies', 'pcgaming', 'HydroHomies', 'xbox', 'HydroHomies', 'tea', 'Coffee', 'PS4', 'pcgaming', 'PS4', 'tea', 'antiMLM', 'tea', 'Soda', 'NintendoSwitch', 'PS4', 'antiMLM', 'tea', 'HydroHomies', 'tea', 'HydroHomies', 'Coffee', 'tea', 'HydroHomies', 'tea', 'NintendoSwitch', 'tea', 'Soda', 'pcgaming', 'tea', 'Coffee', 'PS4', 'Coffee', 'xbox', 'pcgaming', 'HydroHomies', 'xbox', 'tea', 'pcgaming', 'NintendoSwitch', 'NintendoSwitch', 'xbox', 'pcgaming', 'antiMLM', 'tea', 'NintendoSwitch', 'antiMLM', 'NintendoSwitch', 'pcgaming', 'HydroHomies', 'Coffee', 'tea', 'xbox', 'HydroHomies', 'antiMLM', 'PS4', 'xbox', 'PS4', 'antiMLM', 'NintendoSwitch', 'PS4', 'Soda', 'pcgaming', 'xbox', 'xbox', 'tea', 'tea', 'antiMLM', 'Soda', 'PS4', 'NintendoSwitch', 'pcgaming', 'xbox', 'tea', 'NintendoSwitch', 'PS4', 'tea', 'tea', 'PS4', 'HydroHomies', 'tea', 'Coffee', 'PS4', 'Coffee', 'PS4', 'NintendoSwitch', 'HydroHomies', 'xbox', 'pcgaming', 'Soda', 'Coffee', 'pcgaming', 'antiMLM', 'tea', 'tea', 'HydroHomies', 'PS4', 'Soda', 'NintendoSwitch', 'xbox', 'xbox', 'PS4', 'Coffee', 'NintendoSwitch', 'Soda', 'Soda', 'NintendoSwitch', 'HydroHomies', 'PS4', 'pcgaming', 'HydroHomies', 'xbox', 'Coffee', 'PS4', 'tea', 'HydroHomies', 'antiMLM', 'HydroHomies', 'HydroHomies', 'PS4', 'antiMLM', 'antiMLM', 'antiMLM', 'NintendoSwitch', 'antiMLM', 'HydroHomies', 'pcgaming', 'NintendoSwitch', 'Soda', 'HydroHomies', 'HydroHomies', 'Soda', 'HydroHomies', 'antiMLM', 'xbox', 'PS4', 'tea', 'PS4', 'antiMLM', 'Coffee', 'antiMLM', 'HydroHomies', 'xbox', 'pcgaming', 'tea', 'PS4', 'PS4', 'PS4', 'HydroHomies', 'NintendoSwitch', 'antiMLM', 'Coffee', 'NintendoSwitch', 'Soda', 'Coffee', 'HydroHomies', 'NintendoSwitch', 'pcgaming', 'antiMLM', 'antiMLM', 'Soda', 'tea', 'pcgaming', 'NintendoSwitch', 'pcgaming', 'Coffee', 'PS4', 'NintendoSwitch', 'pcgaming', 'PS4', 'PS4', 'NintendoSwitch', 'Soda', 'HydroHomies', 'Soda', 'Coffee', 'HydroHomies', 'pcgaming', 'xbox', 'antiMLM', 'tea', 'tea', 'xbox', 'HydroHomies', 'tea', 'Soda', 'Coffee', 'Soda', 'Coffee', 'PS4', 'HydroHomies', 'tea', 'antiMLM', 'Soda', 'antiMLM', 'HydroHomies', 'xbox', 'PS4', 'Coffee', 'tea', 'xbox', 'NintendoSwitch', 'Soda', 'antiMLM', 'Soda', 'Coffee', 'xbox', 'Coffee', 'PS4', 'pcgaming', 'NintendoSwitch', 'HydroHomies', 'tea', 'pcgaming', 'tea', 'Coffee', 'NintendoSwitch', 'pcgaming', 'Coffee', 'NintendoSwitch', 'Coffee', 'Soda', 'pcgaming', 'PS4', 'Soda', 'pcgaming', 'tea', 'PS4', 'Coffee', 'Soda', 'Coffee', 'antiMLM', 'xbox', 'tea', 'xbox', 'HydroHomies', 'NintendoSwitch', 'NintendoSwitch', 'NintendoSwitch', 'tea', 'pcgaming', 'xbox', 'PS4', 'Soda', 'PS4', 'pcgaming', 'xbox', 'tea', 'xbox', 'antiMLM', 'PS4', 'HydroHomies', 'Coffee', 'Coffee', 'HydroHomies', 'Coffee', 'xbox', 'NintendoSwitch', 'HydroHomies', 'Coffee', 'HydroHomies', 'tea', 'HydroHomies', 'antiMLM', 'PS4', 'PS4', 'Coffee', 'Coffee', 'NintendoSwitch', 'Coffee', 'tea', 'Soda', 'antiMLM', 'HydroHomies', 'tea', 'Coffee', 'antiMLM', 'NintendoSwitch', 'Coffee', 'NintendoSwitch', 'Soda', 'tea', 'xbox', 'xbox', 'antiMLM', 'xbox', 'NintendoSwitch', 'NintendoSwitch', 'tea', 'tea', 'xbox', 'PS4', 'Coffee', 'PS4', 'pcgaming', 'antiMLM', 'Coffee', 'pcgaming', 'PS4', 'NintendoSwitch', 'tea', 'HydroHomies', 'PS4', 'xbox', 'tea', 'xbox', 'tea', 'tea', 'xbox', 'HydroHomies', 'HydroHomies', 'Soda', 'HydroHomies', 'NintendoSwitch', 'xbox', 'HydroHomies', 'xbox', 'tea', 'xbox', 'pcgaming', 'Soda', 'Soda', 'Coffee', 'pcgaming', 'antiMLM', 'tea', 'Coffee', 'xbox', 'PS4', 'xbox', 'xbox', 'tea', 'tea', 'pcgaming', 'PS4', 'HydroHomies', 'HydroHomies', 'pcgaming', 'tea', 'HydroHomies', 'pcgaming', 'xbox', 'NintendoSwitch', 'pcgaming', 'tea', 'tea', 'pcgaming', 'NintendoSwitch', 'HydroHomies', 'PS4', 'pcgaming', 'xbox', 'NintendoSwitch', 'Coffee', 'xbox', 'HydroHomies', 'antiMLM', 'pcgaming', 'Soda', 'Soda', 'Coffee', 'Soda', 'pcgaming', 'NintendoSwitch', 'NintendoSwitch', 'pcgaming', 'pcgaming', 'tea', 'HydroHomies', 'Soda', 'NintendoSwitch', 'PS4', 'Soda', 'tea', 'Coffee', 'PS4', 'NintendoSwitch', 'antiMLM', 'NintendoSwitch', 'Soda', 'antiMLM', 'tea', 'pcgaming', 'tea', 'NintendoSwitch', 'antiMLM', 'tea', 'NintendoSwitch', 'Soda', 'tea', 'Soda', 'pcgaming', 'NintendoSwitch', 'antiMLM', 'tea', 'Soda', 'PS4', 'NintendoSwitch', 'pcgaming', 'tea', 'Coffee', 'xbox', 'antiMLM', 'pcgaming', 'PS4', 'PS4', 'tea', 'tea', 'tea', 'HydroHomies', 'NintendoSwitch', 'xbox', 'Coffee', 'HydroHomies', 'pcgaming', 'xbox', 'antiMLM', 'pcgaming', 'PS4', 'pcgaming', 'Coffee', 'HydroHomies', 'pcgaming', 'PS4', 'pcgaming', 'Soda', 'NintendoSwitch', 'HydroHomies', 'PS4', 'Soda', 'NintendoSwitch', 'xbox', 'antiMLM', 'antiMLM', 'antiMLM', 'xbox', 'PS4', 'pcgaming', 'Coffee', 'NintendoSwitch', 'NintendoSwitch', 'pcgaming', 'PS4', 'PS4', 'Soda', 'pcgaming', 'Soda', 'HydroHomies', 'antiMLM', 'tea', 'HydroHomies', 'tea', 'Coffee', 'NintendoSwitch', 'Coffee', 'HydroHomies', 'pcgaming', 'antiMLM', 'HydroHomies', 'Coffee', 'antiMLM', 'Coffee', 'antiMLM', 'Soda', 'tea', 'tea', 'pcgaming', 'tea', 'NintendoSwitch', 'PS4', 'Soda', 'NintendoSwitch', 'Coffee', 'tea', 'Coffee', 'PS4', 'pcgaming', 'tea', 'Soda', 'pcgaming', 'HydroHomies', 'xbox', 'xbox', 'tea', 'PS4', 'HydroHomies', 'tea', 'NintendoSwitch', 'Coffee', 'NintendoSwitch', 'Coffee', 'pcgaming', 'Soda', 'PS4', 'tea', 'antiMLM', 'Soda', 'tea', 'tea', 'NintendoSwitch', 'tea', 'antiMLM', 'NintendoSwitch', 'pcgaming', 'HydroHomies', 'PS4', 'tea', 'tea', 'NintendoSwitch', 'NintendoSwitch', 'NintendoSwitch', 'Soda', 'PS4', 'tea', 'xbox', 'NintendoSwitch', 'PS4', 'PS4', 'Soda', 'xbox', 'Coffee', 'Soda', 'xbox', 'Coffee', 'PS4', 'Coffee', 'NintendoSwitch', 'HydroHomies', 'Coffee', 'Soda', 'PS4', 'antiMLM', 'xbox', 'PS4', 'antiMLM', 'Coffee', 'xbox', 'antiMLM', 'xbox', 'NintendoSwitch', 'pcgaming', 'Soda', 'antiMLM', 'PS4', 'antiMLM', 'pcgaming', 'tea', 'tea', 'Soda', 'antiMLM', 'Coffee', 'antiMLM', 'NintendoSwitch', 'tea', 'pcgaming', 'antiMLM', 'xbox', 'antiMLM', 'NintendoSwitch', 'xbox', 'pcgaming', 'tea', 'antiMLM', 'pcgaming', 'NintendoSwitch', 'tea', 'PS4', 'PS4', 'PS4', 'tea', 'HydroHomies', 'Coffee', 'xbox', 'tea', 'NintendoSwitch', 'Coffee', 'PS4', 'HydroHomies', 'Coffee', 'pcgaming', 'pcgaming', 'NintendoSwitch', 'PS4', 'pcgaming', 'tea', 'Coffee', 'PS4', 'PS4', 'PS4', 'xbox', 'Coffee', 'PS4', 'HydroHomies', 'NintendoSwitch', 'Coffee', 'pcgaming', 'HydroHomies', 'pcgaming', 'xbox', 'Soda', 'PS4', 'antiMLM', 'tea', 'HydroHomies', 'Coffee', 'NintendoSwitch', 'Coffee', 'tea', 'HydroHomies', 'xbox', 'Soda', 'Soda', 'HydroHomies', 'PS4', 'NintendoSwitch', 'xbox', 'tea', 'xbox', 'Coffee', 'HydroHomies', 'HydroHomies', 'NintendoSwitch', 'PS4', 'xbox', 'Soda', 'NintendoSwitch', 'tea', 'PS4', 'Soda', 'tea', 'antiMLM', 'pcgaming', 'HydroHomies', 'xbox', 'Soda', 'tea', 'Soda', 'HydroHomies', 'antiMLM', 'Soda', 'Coffee', 'tea', 'tea', 'xbox', 'tea', 'NintendoSwitch', 'Soda', 'Coffee', 'PS4', 'pcgaming', 'antiMLM', 'HydroHomies', 'tea', 'HydroHomies', 'NintendoSwitch', 'PS4', 'pcgaming', 'NintendoSwitch', 'PS4', 'HydroHomies', 'xbox', 'NintendoSwitch', 'pcgaming', 'pcgaming', 'NintendoSwitch', 'antiMLM', 'tea', 'pcgaming', 'xbox', 'pcgaming', 'PS4', 'HydroHomies', 'PS4', 'tea', 'Coffee', 'PS4', 'NintendoSwitch', 'PS4', 'xbox', 'HydroHomies', 'HydroHomies', 'NintendoSwitch', 'NintendoSwitch', 'Soda', 'Coffee', 'Coffee', 'tea', 'xbox', 'HydroHomies', 'Coffee', 'Coffee', 'Soda', 'PS4', 'tea', 'xbox', 'pcgaming', 'Coffee', 'Coffee', 'antiMLM', 'pcgaming', 'tea', 'Soda', 'Coffee', 'PS4', 'xbox', 'antiMLM', 'PS4', 'HydroHomies', 'antiMLM', 'pcgaming', 'tea', 'xbox', 'antiMLM', 'HydroHomies', 'Soda', 'Coffee', 'xbox', 'tea', 'HydroHomies', 'PS4', 'Coffee', 'tea', 'PS4', 'PS4', 'PS4', 'Coffee', 'tea', 'NintendoSwitch', 'PS4', 'tea', 'pcgaming', 'Soda', 'NintendoSwitch', 'Soda', 'tea', 'NintendoSwitch', 'NintendoSwitch', 'Coffee', 'antiMLM', 'xbox', 'xbox', 'PS4', 'PS4', 'pcgaming', 'NintendoSwitch', 'Coffee', 'xbox', 'antiMLM', 'PS4', 'pcgaming', 'xbox', 'xbox', 'xbox', 'PS4', 'pcgaming', 'Soda', 'NintendoSwitch', 'tea', 'NintendoSwitch', 'Coffee', 'NintendoSwitch', 'PS4', 'xbox', 'Soda', 'HydroHomies', 'NintendoSwitch', 'pcgaming', 'xbox', 'antiMLM', 'NintendoSwitch', 'antiMLM', 'antiMLM', 'Coffee', 'pcgaming', 'HydroHomies', 'PS4', 'Coffee', 'xbox', 'Coffee', 'tea', 'Coffee', 'pcgaming']\n",
            "Counter({'tea': 146, 'NintendoSwitch': 145, 'PS4': 142, 'Coffee': 136, 'pcgaming': 135, 'HydroHomies': 134, 'xbox': 132, 'antiMLM': 128, 'Soda': 102}) \n",
            "\n",
            "Validation labels:  ['Coffee', 'HydroHomies', 'Soda', 'tea', 'Coffee', 'Coffee', 'PS4', 'pcgaming', 'Coffee', 'Coffee', 'xbox', 'NintendoSwitch', 'HydroHomies', 'HydroHomies', 'Coffee', 'tea', 'xbox', 'tea', 'pcgaming', 'pcgaming', 'Coffee', 'PS4', 'xbox', 'PS4', 'Soda', 'PS4', 'Coffee', 'Coffee', 'Soda', 'antiMLM', 'Soda', 'xbox', 'antiMLM', 'pcgaming', 'tea', 'Soda', 'Coffee', 'PS4', 'PS4', 'NintendoSwitch', 'antiMLM', 'xbox', 'Soda', 'HydroHomies', 'pcgaming', 'Coffee', 'antiMLM', 'antiMLM', 'PS4', 'Soda', 'NintendoSwitch', 'antiMLM', 'Soda', 'HydroHomies', 'Soda', 'PS4', 'NintendoSwitch', 'NintendoSwitch', 'antiMLM', 'PS4', 'HydroHomies', 'HydroHomies', 'PS4', 'xbox', 'Coffee', 'antiMLM', 'HydroHomies', 'NintendoSwitch', 'tea', 'HydroHomies', 'xbox', 'PS4', 'tea', 'HydroHomies', 'Soda', 'xbox', 'pcgaming', 'HydroHomies', 'tea', 'PS4', 'pcgaming', 'HydroHomies', 'NintendoSwitch', 'pcgaming', 'xbox', 'tea', 'pcgaming', 'antiMLM', 'HydroHomies', 'xbox', 'antiMLM', 'pcgaming', 'xbox', 'Coffee', 'Coffee', 'NintendoSwitch', 'Coffee', 'Soda', 'HydroHomies', 'pcgaming', 'NintendoSwitch', 'pcgaming', 'HydroHomies', 'HydroHomies', 'Soda', 'HydroHomies', 'Coffee', 'pcgaming', 'pcgaming', 'PS4', 'antiMLM', 'tea', 'tea', 'tea', 'Soda', 'HydroHomies', 'tea', 'NintendoSwitch', 'antiMLM', 'xbox', 'pcgaming', 'antiMLM', 'Soda', 'Soda', 'PS4', 'Soda', 'antiMLM', 'HydroHomies', 'antiMLM', 'NintendoSwitch', 'Coffee', 'Coffee', 'antiMLM', 'pcgaming', 'Soda', 'PS4', 'antiMLM', 'tea', 'NintendoSwitch', 'antiMLM', 'pcgaming', 'pcgaming', 'xbox', 'PS4', 'NintendoSwitch', 'pcgaming', 'Coffee', 'antiMLM', 'tea', 'Coffee', 'Coffee', 'xbox', 'NintendoSwitch', 'NintendoSwitch', 'NintendoSwitch', 'tea', 'Soda', 'PS4', 'Coffee', 'xbox', 'pcgaming', 'pcgaming', 'pcgaming', 'PS4', 'antiMLM', 'antiMLM', 'HydroHomies', 'antiMLM', 'PS4', 'xbox', 'PS4', 'antiMLM', 'xbox', 'antiMLM', 'pcgaming', 'Soda', 'antiMLM', 'antiMLM', 'NintendoSwitch', 'HydroHomies', 'tea', 'HydroHomies', 'Coffee', 'HydroHomies', 'Soda', 'Soda', 'Coffee', 'HydroHomies', 'PS4', 'NintendoSwitch', 'xbox', 'tea', 'Soda', 'Soda', 'tea', 'Coffee', 'HydroHomies', 'tea', 'tea', 'Coffee', 'PS4', 'NintendoSwitch', 'Soda', 'HydroHomies', 'PS4', 'xbox', 'pcgaming', 'tea', 'NintendoSwitch', 'HydroHomies', 'PS4', 'NintendoSwitch', 'pcgaming', 'pcgaming', 'Soda', 'Coffee', 'antiMLM', 'xbox', 'xbox', 'xbox', 'tea', 'tea', 'tea', 'HydroHomies', 'Soda', 'tea', 'Coffee', 'Soda', 'xbox', 'Soda', 'PS4', 'PS4', 'Soda', 'pcgaming', 'Coffee', 'HydroHomies', 'antiMLM', 'NintendoSwitch', 'PS4', 'HydroHomies', 'xbox', 'PS4', 'NintendoSwitch', 'HydroHomies', 'antiMLM', 'antiMLM', 'NintendoSwitch', 'NintendoSwitch', 'tea', 'NintendoSwitch', 'xbox', 'tea', 'tea', 'tea', 'Soda', 'Soda', 'HydroHomies', 'pcgaming', 'Coffee', 'pcgaming', 'PS4', 'NintendoSwitch', 'xbox', 'pcgaming', 'antiMLM', 'antiMLM', 'Coffee', 'NintendoSwitch', 'pcgaming', 'HydroHomies', 'Coffee', 'Soda', 'PS4', 'xbox', 'pcgaming', 'Coffee', 'antiMLM', 'antiMLM', 'pcgaming', 'tea', 'NintendoSwitch', 'tea', 'antiMLM', 'antiMLM', 'Coffee', 'NintendoSwitch', 'Coffee', 'PS4', 'pcgaming', 'NintendoSwitch', 'pcgaming', 'Soda', 'antiMLM', 'pcgaming', 'PS4', 'Soda', 'tea', 'tea', 'HydroHomies', 'tea', 'PS4', 'NintendoSwitch', 'PS4', 'antiMLM', 'tea', 'NintendoSwitch', 'tea', 'antiMLM', 'PS4', 'NintendoSwitch', 'NintendoSwitch', 'NintendoSwitch', 'tea', 'tea', 'antiMLM', 'Coffee', 'pcgaming', 'NintendoSwitch', 'xbox', 'NintendoSwitch', 'pcgaming', 'NintendoSwitch', 'antiMLM', 'antiMLM', 'xbox', 'Soda', 'antiMLM', 'xbox', 'Soda', 'NintendoSwitch', 'tea', 'NintendoSwitch', 'antiMLM', 'NintendoSwitch', 'NintendoSwitch', 'Coffee', 'PS4', 'HydroHomies', 'NintendoSwitch', 'HydroHomies', 'xbox', 'NintendoSwitch', 'HydroHomies', 'xbox', 'NintendoSwitch', 'PS4', 'antiMLM', 'tea', 'HydroHomies', 'pcgaming', 'Coffee', 'antiMLM', 'xbox', 'antiMLM', 'NintendoSwitch', 'antiMLM', 'tea', 'pcgaming', 'PS4', 'PS4', 'antiMLM', 'NintendoSwitch', 'tea', 'Soda', 'Coffee', 'NintendoSwitch', 'tea', 'tea', 'antiMLM', 'antiMLM', 'PS4', 'xbox', 'antiMLM', 'pcgaming', 'xbox', 'pcgaming', 'Coffee', 'PS4', 'xbox', 'tea', 'tea', 'PS4', 'pcgaming', 'tea', 'antiMLM', 'Coffee', 'NintendoSwitch', 'Soda', 'NintendoSwitch', 'NintendoSwitch', 'Soda', 'Soda', 'Coffee', 'antiMLM', 'Soda', 'Soda', 'Soda', 'xbox', 'PS4', 'tea']\n",
            "Counter({'antiMLM': 54, 'NintendoSwitch': 52, 'tea': 48, 'Soda': 43, 'PS4': 43, 'pcgaming': 43, 'Coffee': 42, 'HydroHomies': 38, 'xbox': 37}) \n",
            "\n",
            "Test labels:  ['Coffee', 'NintendoSwitch', 'xbox', 'tea', 'antiMLM', 'tea', 'antiMLM', 'Coffee', 'pcgaming', 'Coffee', 'pcgaming', 'NintendoSwitch', 'pcgaming', 'PS4', 'Coffee', 'PS4', 'pcgaming', 'PS4', 'antiMLM', 'HydroHomies', 'antiMLM', 'HydroHomies', 'xbox', 'tea', 'xbox', 'NintendoSwitch', 'Coffee', 'NintendoSwitch', 'Coffee', 'HydroHomies', 'antiMLM', 'tea', 'Coffee', 'Coffee', 'xbox', 'tea', 'pcgaming', 'NintendoSwitch', 'antiMLM', 'antiMLM', 'tea', 'PS4', 'NintendoSwitch', 'PS4', 'Coffee', 'PS4', 'HydroHomies', 'NintendoSwitch', 'HydroHomies', 'Coffee', 'pcgaming', 'HydroHomies', 'xbox', 'tea', 'xbox', 'pcgaming', 'PS4', 'xbox', 'NintendoSwitch', 'tea', 'HydroHomies', 'tea', 'PS4', 'Coffee', 'Soda', 'antiMLM', 'HydroHomies', 'HydroHomies', 'NintendoSwitch', 'Coffee', 'PS4', 'HydroHomies', 'Coffee', 'Coffee', 'PS4', 'Coffee', 'pcgaming', 'antiMLM', 'tea', 'NintendoSwitch', 'PS4', 'antiMLM', 'antiMLM', 'pcgaming', 'NintendoSwitch', 'pcgaming', 'HydroHomies', 'NintendoSwitch', 'Coffee', 'NintendoSwitch', 'tea', 'HydroHomies', 'pcgaming', 'Coffee', 'xbox', 'Coffee', 'HydroHomies', 'PS4', 'HydroHomies', 'tea', 'Coffee', 'PS4', 'Coffee', 'Coffee', 'HydroHomies', 'pcgaming', 'NintendoSwitch', 'HydroHomies', 'antiMLM', 'tea', 'NintendoSwitch', 'xbox', 'NintendoSwitch', 'Soda', 'xbox', 'tea', 'PS4', 'pcgaming', 'xbox', 'pcgaming', 'antiMLM', 'NintendoSwitch', 'NintendoSwitch', 'xbox', 'HydroHomies', 'NintendoSwitch', 'pcgaming', 'xbox', 'PS4', 'HydroHomies', 'antiMLM', 'NintendoSwitch', 'PS4', 'xbox', 'xbox', 'pcgaming', 'PS4', 'PS4', 'NintendoSwitch', 'Soda', 'Coffee', 'pcgaming', 'Coffee', 'NintendoSwitch', 'PS4', 'PS4', 'PS4', 'pcgaming', 'HydroHomies', 'xbox', 'xbox', 'HydroHomies', 'pcgaming', 'antiMLM', 'Soda', 'pcgaming', 'Soda', 'tea', 'Soda', 'antiMLM', 'antiMLM', 'antiMLM', 'Coffee', 'PS4', 'antiMLM', 'xbox', 'Coffee', 'pcgaming', 'HydroHomies', 'antiMLM', 'Coffee', 'PS4', 'HydroHomies', 'pcgaming', 'pcgaming', 'PS4', 'Soda', 'xbox', 'NintendoSwitch', 'PS4', 'Coffee', 'pcgaming', 'Coffee', 'PS4', 'PS4', 'xbox', 'HydroHomies', 'xbox', 'pcgaming', 'Soda', 'PS4', 'pcgaming', 'tea', 'HydroHomies', 'HydroHomies', 'antiMLM', 'NintendoSwitch', 'Coffee', 'Soda', 'xbox', 'NintendoSwitch', 'Soda', 'Coffee', 'xbox', 'antiMLM', 'Coffee', 'Soda', 'tea', 'pcgaming', 'pcgaming', 'PS4', 'PS4', 'antiMLM', 'antiMLM', 'Coffee', 'antiMLM', 'antiMLM', 'tea', 'pcgaming', 'Soda', 'tea', 'Coffee', 'HydroHomies', 'NintendoSwitch', 'tea', 'pcgaming', 'Coffee', 'pcgaming', 'antiMLM', 'PS4', 'tea', 'pcgaming', 'xbox', 'xbox', 'pcgaming', 'PS4', 'PS4', 'tea', 'Coffee', 'HydroHomies', 'Coffee', 'Coffee', 'tea', 'xbox', 'Soda', 'Coffee', 'tea', 'PS4', 'NintendoSwitch', 'tea', 'NintendoSwitch', 'xbox', 'PS4', 'HydroHomies', 'pcgaming', 'NintendoSwitch', 'tea', 'antiMLM', 'NintendoSwitch', 'tea', 'Coffee', 'HydroHomies', 'xbox', 'antiMLM', 'Soda', 'Coffee', 'pcgaming', 'NintendoSwitch', 'HydroHomies', 'NintendoSwitch', 'PS4', 'Soda', 'Soda', 'tea', 'antiMLM', 'Coffee', 'PS4', 'xbox', 'xbox', 'antiMLM', 'Soda', 'Coffee', 'NintendoSwitch', 'Coffee', 'Coffee', 'Soda', 'Coffee', 'xbox', 'xbox', 'antiMLM', 'xbox', 'Soda', 'NintendoSwitch', 'Coffee', 'xbox', 'antiMLM', 'xbox', 'Coffee', 'NintendoSwitch', 'NintendoSwitch', 'pcgaming', 'pcgaming', 'xbox', 'Coffee', 'NintendoSwitch', 'pcgaming', 'PS4', 'PS4', 'Soda', 'antiMLM', 'tea', 'Soda', 'HydroHomies', 'NintendoSwitch', 'Soda', 'PS4', 'pcgaming', 'antiMLM', 'antiMLM', 'antiMLM', 'NintendoSwitch', 'PS4', 'tea', 'Coffee', 'HydroHomies', 'tea', 'pcgaming', 'antiMLM', 'Coffee', 'NintendoSwitch', 'xbox', 'xbox', 'tea', 'NintendoSwitch', 'xbox', 'xbox', 'Coffee', 'tea', 'tea', 'tea', 'xbox', 'PS4', 'PS4', 'tea', 'HydroHomies', 'NintendoSwitch', 'PS4', 'antiMLM', 'pcgaming', 'NintendoSwitch', 'NintendoSwitch', 'PS4', 'antiMLM', 'antiMLM', 'xbox', 'Soda', 'pcgaming', 'Coffee', 'tea', 'NintendoSwitch', 'NintendoSwitch', 'Soda', 'Soda', 'tea', 'tea', 'PS4', 'pcgaming', 'NintendoSwitch', 'HydroHomies', 'pcgaming', 'tea', 'antiMLM', 'Coffee', 'HydroHomies', 'NintendoSwitch', 'Soda', 'pcgaming', 'Coffee', 'NintendoSwitch', 'Coffee', 'antiMLM', 'PS4', 'Soda', 'HydroHomies', 'Soda', 'Coffee', 'NintendoSwitch', 'HydroHomies', 'PS4', 'tea', 'HydroHomies', 'antiMLM', 'xbox', 'xbox', 'tea', 'pcgaming', 'NintendoSwitch', 'NintendoSwitch', 'pcgaming', 'Soda']\n",
            "Counter({'Coffee': 56, 'NintendoSwitch': 52, 'PS4': 48, 'pcgaming': 47, 'xbox': 44, 'antiMLM': 44, 'tea': 42, 'HydroHomies': 38, 'Soda': 29})\n"
          ]
        }
      ]
    },
    {
      "cell_type": "markdown",
      "source": [
        "### **A1a:** \n",
        "\n",
        "As we can see, the different counts for the various labels are given above. There are 9 subreddits in total. For the training set there are roughly 100-150 posts for each subreddit, and for the validation and test sets there are roughly 30-50 posts for each subreddit.\n",
        "\n",
        "For the training set, the tea subreddit has the highest number of posts (146) with Soda having the lowest (102). For the validation set antiMLM has the highest number of posts (54) with xbox having the lowest (37). Lastly, for the test set Coffee has the highest number of posts (56) with Soda having the lowest (29)."
      ],
      "metadata": {
        "id": "Ks5TYJmN2ODp"
      }
    },
    {
      "cell_type": "markdown",
      "source": [
        "### Q1b:"
      ],
      "metadata": {
        "id": "TQaSIxai_8dQ"
      }
    },
    {
      "cell_type": "code",
      "source": [
        "dummy_mf = DummyClassifier(strategy=\"most_frequent\")\n",
        "dummy_strat = DummyClassifier(strategy=\"stratified\")\n",
        "dummy_mf.fit(train_features, train_labels)\n",
        "dummy_strat.fit(train_features, train_labels)\n",
        "\n",
        "evaluation_summary(\"Dummy Most Frequent\", test_labels, dummy_mf.predict(test_features) , set(test_labels))\n",
        "print(\"\\n\")\n",
        "evaluation_summary(\"Dummy Stratified\", test_labels, dummy_strat.predict(test_features) , set(test_labels))\n",
        "print(\"\\n\")\n",
        "\n",
        "\n",
        "LR_one_hot = LogisticRegression(solver=\"saga\")\n",
        "LR_one_hot.fit(one_hot_train_features, train_labels)\n",
        "\n",
        "evaluation_summary(\"Logistic Regression with One-Hot\",  test_labels, LR_one_hot.predict(one_hot_test_features), set(test_labels))\n",
        "print(\"\\n\")\n",
        "\n",
        "\n",
        "LR_TFIDF = LogisticRegression(solver=\"saga\")\n",
        "LR_TFIDF.fit(TFIDF_train_features, train_labels)\n",
        "\n",
        "evaluation_summary(\"Logistic Regression with TFIDF\",  test_labels, LR_TFIDF.predict(TFIDF_test_features), set(test_labels))\n",
        "print(\"\\n\")\n",
        "\n",
        "\n",
        "SVC_one_hot = SVC(kernel='rbf')\n",
        "SVC_one_hot.fit(one_hot_train_features, train_labels)\n",
        "\n",
        "evaluation_summary(\"SVC with One-Hot\",  test_labels, SVC_one_hot.predict(one_hot_test_features), set(test_labels))\n",
        "print(\"\\n\")"
      ],
      "metadata": {
        "colab": {
          "base_uri": "https://localhost:8080/"
        },
        "id": "n2w3KaOcTSaC",
        "outputId": "bace5713-5fe6-4763-d81d-39775bd49aaa"
      },
      "execution_count": null,
      "outputs": [
        {
          "output_type": "stream",
          "name": "stdout",
          "text": [
            "Evaluation for: Dummy Most Frequent\n",
            "                precision    recall  f1-score   support\n",
            "\n",
            "        Coffee      0.000     0.000     0.000        56\n",
            "          Soda      0.000     0.000     0.000        38\n",
            "   HydroHomies      0.000     0.000     0.000        52\n",
            "      pcgaming      0.000     0.000     0.000        48\n",
            "           PS4      0.000     0.000     0.000        29\n",
            "       antiMLM      0.000     0.000     0.000        44\n",
            "           tea      0.000     0.000     0.000        47\n",
            "NintendoSwitch      0.105     1.000     0.190        42\n",
            "          xbox      0.000     0.000     0.000        44\n",
            "\n",
            "      accuracy                          0.105       400\n",
            "     macro avg      0.012     0.111     0.021       400\n",
            "  weighted avg      0.011     0.105     0.020       400\n",
            "\n",
            "\n",
            "\n",
            "Evaluation for: Dummy Stratified\n",
            "                precision    recall  f1-score   support\n",
            "\n",
            "        Coffee      0.057     0.054     0.055        56\n",
            "          Soda      0.089     0.105     0.096        38\n",
            "   HydroHomies      0.158     0.115     0.133        52\n",
            "      pcgaming      0.154     0.125     0.138        48\n",
            "           PS4      0.049     0.069     0.057        29\n",
            "       antiMLM      0.136     0.136     0.136        44\n",
            "           tea      0.083     0.085     0.084        47\n",
            "NintendoSwitch      0.143     0.190     0.163        42\n",
            "          xbox      0.139     0.114     0.125        44\n",
            "\n",
            "      accuracy                          0.110       400\n",
            "     macro avg      0.112     0.110     0.110       400\n",
            "  weighted avg      0.114     0.110     0.111       400\n",
            "\n",
            "\n",
            "\n"
          ]
        },
        {
          "output_type": "stream",
          "name": "stderr",
          "text": [
            "/usr/local/lib/python3.7/dist-packages/sklearn/linear_model/_sag.py:354: ConvergenceWarning: The max_iter was reached which means the coef_ did not converge\n",
            "  ConvergenceWarning,\n"
          ]
        },
        {
          "output_type": "stream",
          "name": "stdout",
          "text": [
            "Evaluation for: Logistic Regression with One-Hot\n",
            "                precision    recall  f1-score   support\n",
            "\n",
            "        Coffee      0.768     0.768     0.768        56\n",
            "          Soda      0.868     0.868     0.868        38\n",
            "   HydroHomies      0.667     0.577     0.619        52\n",
            "      pcgaming      0.492     0.604     0.542        48\n",
            "           PS4      0.676     0.793     0.730        29\n",
            "       antiMLM      0.833     0.682     0.750        44\n",
            "           tea      0.533     0.511     0.522        47\n",
            "NintendoSwitch      0.810     0.810     0.810        42\n",
            "          xbox      0.556     0.568     0.562        44\n",
            "\n",
            "      accuracy                          0.677       400\n",
            "     macro avg      0.689     0.687     0.686       400\n",
            "  weighted avg      0.685     0.677     0.679       400\n",
            "\n",
            "\n",
            "\n",
            "Evaluation for: Logistic Regression with TFIDF\n",
            "                precision    recall  f1-score   support\n",
            "\n",
            "        Coffee      0.879     0.911     0.895        56\n",
            "          Soda      0.939     0.816     0.873        38\n",
            "   HydroHomies      0.661     0.788     0.719        52\n",
            "      pcgaming      0.561     0.667     0.610        48\n",
            "           PS4      0.806     0.862     0.833        29\n",
            "       antiMLM      0.837     0.818     0.828        44\n",
            "           tea      0.692     0.574     0.628        47\n",
            "NintendoSwitch      0.902     0.881     0.892        42\n",
            "          xbox      0.806     0.659     0.725        44\n",
            "\n",
            "      accuracy                          0.773       400\n",
            "     macro avg      0.787     0.775     0.778       400\n",
            "  weighted avg      0.781     0.772     0.773       400\n",
            "\n",
            "\n",
            "\n",
            "Evaluation for: SVC with One-Hot\n",
            "                precision    recall  f1-score   support\n",
            "\n",
            "        Coffee      0.833     0.804     0.818        56\n",
            "          Soda      0.727     0.842     0.780        38\n",
            "   HydroHomies      0.635     0.635     0.635        52\n",
            "      pcgaming      0.365     0.646     0.466        48\n",
            "           PS4      0.677     0.724     0.700        29\n",
            "       antiMLM      0.675     0.614     0.643        44\n",
            "           tea      0.522     0.255     0.343        47\n",
            "NintendoSwitch      0.921     0.833     0.875        42\n",
            "          xbox      0.667     0.500     0.571        44\n",
            "\n",
            "      accuracy                          0.645       400\n",
            "     macro avg      0.669     0.650     0.648       400\n",
            "  weighted avg      0.667     0.645     0.644       400\n",
            "\n",
            "\n",
            "\n"
          ]
        }
      ]
    },
    {
      "cell_type": "markdown",
      "source": [
        "### **A1b:** \n",
        "\n",
        "From the tables for each classifier above, it is clear that Logistic Regression with TFIDF performs the best with a weighted average f1-score of roughly 0.780 (this may change slightly on restarting the colab notebook). \n",
        "\n",
        "**Effectiveness Discussion:**\n",
        "\n",
        "**Dummy (Most Frequent)** clearly has the worst performance among all of the classifiers as it simply assigns the most frequent class label. The NintendoSwitch subreddit in this case has the highest frequency meaning perfect precision but recall is very low. All other classes show 0 f1-scores. The model just does not fit well to the dataset as evident from the performance on the test set. Naturally, accuracy remains low for this classifier.\n",
        "\n",
        "**Dummy (Stratified)** performs slightly better than Dummy (Most Frequent) making it the second worst performing classifier. The model still fits poorly to the dataset, as noted by the performance on the test set. Low, but similar f1-scores are distributed across all the labels, since this variant of the Dummy classifer uses random sampling to predict the labels. \n",
        "\n",
        "**Logistic Regression with One-Hot** is the second best performing classifier on the basis of weighted average f1-score. The classifier fits well to the dataset, although One-Hot feature representation contributes to the lower weighted average f1-score in comparison to the same classifer with TFIDF, as is the case with bag-of-words representations. Most labels show good accuracy apart from the xbox, Coffee, Soda and tea subreddits. \n",
        "\n",
        "**Logistic Regression with TFIDF** performs the best among all the classifiers with the highest weighted average f1-score. The model overall fits well, with most labels showing good accuracy apart from the xbox and Coffee subreddits again being the outliers. The pcgaming subreddit surprisingly shows a higher accuracy than that produced by the One-Hot counterpart. Although, the fit can be improved even further with parameter tuning and additional features, as shown later in the coursework.\n",
        "\n",
        "**SVC with One-Hot** is the middle-of-the-pack model with average performance, although with a notably lower weighted average f1-score than the Logistic Regression models. The model fits okay but clearly does not have satisfactory generalisation on the test set. Many subbreddits such as xbox, Coffee and Soda show subpar accuracy."
      ],
      "metadata": {
        "id": "p__FpHG44niQ"
      }
    },
    {
      "cell_type": "code",
      "source": [
        "ax = plt.figure(figsize=(15,5))\n",
        "plt.bar(x=[\"NintendoSwitch\",\"antiMLM\",\"xbox\",\"HydroHomies\",\"Soda\",\"PS4\",\"pcgaming\",\"tea\",\"Coffee\"], height=[0.892,0.828,0.725,0.719,0.873,0.833,0.610,0.628,0.895])\n",
        "plt.xlabel(\"Subreddits\")\n",
        "plt.ylabel(\"F1 Scores\")\n",
        "plt.title(\"F1 Performance Across Subreddits (Logistic Regression TFIDF)\")"
      ],
      "metadata": {
        "colab": {
          "base_uri": "https://localhost:8080/",
          "height": 368
        },
        "id": "wmgVy_W2l2EK",
        "outputId": "814c6663-cc72-4fbe-edf1-5c76e18d44f3"
      },
      "execution_count": null,
      "outputs": [
        {
          "output_type": "execute_result",
          "data": {
            "text/plain": [
              "Text(0.5, 1.0, 'F1 Performance Across Subreddits (Logistic Regression TFIDF)')"
            ]
          },
          "metadata": {},
          "execution_count": 109
        },
        {
          "output_type": "display_data",
          "data": {
            "text/plain": [
              "<Figure size 1080x360 with 1 Axes>"
            ],
            "image/png": "[encoded data removed]"
          },
          "metadata": {
            "needs_background": "light"
          }
        }
      ]
    },
    {
      "cell_type": "markdown",
      "source": [
        "The f1 performance for the best model (Logistic Regression with TFIDF) is given above. Please note there might be slight variations in values upon restarting the colab notebook."
      ],
      "metadata": {
        "id": "qtJY-JszFE0O"
      }
    },
    {
      "cell_type": "markdown",
      "source": [
        "### Q1c:"
      ],
      "metadata": {
        "id": "YBMJdw_j_8fx"
      }
    },
    {
      "cell_type": "code",
      "source": [
        "SVC_TFIDF = SVC(kernel='rbf')\n",
        "SVC_TFIDF.fit(TFIDF_train_features, train_labels)\n",
        "\n",
        "evaluation_summary(\"SVC with TFIDF\",  test_labels, SVC_TFIDF.predict(TFIDF_test_features), set(test_labels))\n",
        "print(\"\\n\")"
      ],
      "metadata": {
        "colab": {
          "base_uri": "https://localhost:8080/"
        },
        "id": "yTW8-qlgnf-C",
        "outputId": "8d431507-b948-4f8f-f623-6f71f6b4297d"
      },
      "execution_count": null,
      "outputs": [
        {
          "output_type": "stream",
          "name": "stdout",
          "text": [
            "Evaluation for: SVC with TFIDF\n",
            "                precision    recall  f1-score   support\n",
            "\n",
            "        Coffee      0.960     0.857     0.906        56\n",
            "          Soda      1.000     0.763     0.866        38\n",
            "   HydroHomies      0.714     0.769     0.741        52\n",
            "      pcgaming      0.449     0.729     0.556        48\n",
            "           PS4      0.885     0.793     0.836        29\n",
            "       antiMLM      0.850     0.773     0.810        44\n",
            "           tea      0.474     0.574     0.519        47\n",
            "NintendoSwitch      0.973     0.857     0.911        42\n",
            "          xbox      0.852     0.523     0.648        44\n",
            "\n",
            "      accuracy                          0.738       400\n",
            "     macro avg      0.795     0.738     0.755       400\n",
            "  weighted avg      0.785     0.738     0.750       400\n",
            "\n",
            "\n",
            "\n"
          ]
        }
      ]
    },
    {
      "cell_type": "markdown",
      "source": [
        "### **A1c:**\n",
        "\n",
        "For my own model, I have chosen the Support Vector Classifier with TFIDF encoding. The model is appropriate for the task, since SVC is generally well suited towards text data and the TFIDF representation is much better than a simple bag-of-words representation, which tends to be quite sparse. \n",
        "\n",
        "The model performs similar to the Logistic Regression with TFIDF model, with comparable weighted average f1-scores and f1-scores across the various subreddits. This makes it one of the best performing models among the ones discussed above."
      ],
      "metadata": {
        "id": "n434PslYCcaR"
      }
    },
    {
      "cell_type": "markdown",
      "source": [
        "## Q2:"
      ],
      "metadata": {
        "id": "zZcRes8WAOo6"
      }
    },
    {
      "cell_type": "markdown",
      "source": [
        "This cell makes a pipeline for the Grid Search."
      ],
      "metadata": {
        "id": "sCh34iFOkZ5n"
      }
    },
    {
      "cell_type": "code",
      "source": [
        "pipeline = Pipeline([\n",
        "           ('vect', TfidfVectorizer()),\n",
        "           ('LR', LogisticRegression(solver=\"saga\")),\n",
        "])\n"
      ],
      "metadata": {
        "id": "LFhuThdc1_xF"
      },
      "execution_count": null,
      "outputs": []
    },
    {
      "cell_type": "markdown",
      "source": [
        "### Q2a:"
      ],
      "metadata": {
        "id": "ZuAxwU0IABir"
      }
    },
    {
      "cell_type": "markdown",
      "source": [
        "I have used GridSearchCV on the validation set with a 5-fold CV to determine the best hyperparameters for the model. Exhaustive search with all of the parameters at once was infeasible because of the time taken, so I selected parameters sequentially on the pipeline. "
      ],
      "metadata": {
        "id": "LnNIZuzMmH7K"
      }
    },
    {
      "cell_type": "code",
      "source": [
        "parameters = {\"LR__tol\": [10e-3, 10e-2, 10e-1, 10, 10e2, 10e3, 10e4, 10e5]}\n",
        "\n",
        "gridsearch = GridSearchCV(pipeline, param_grid=parameters, n_jobs=1, scoring=\"f1_weighted\", cv=5)\n",
        "gridsearch.fit(validation_features, validation_labels)\n",
        "\n",
        "best_params = gridsearch.best_estimator_.get_params()\n",
        "best_score = gridsearch.best_score_\n",
        "\n",
        "print(best_score)\n",
        "for x in sorted(parameters.keys()):\n",
        "  print(\"\\t%s: %r\" % (x, best_params[x]))"
      ],
      "metadata": {
        "colab": {
          "base_uri": "https://localhost:8080/"
        },
        "id": "KVfPo6vdoEb5",
        "outputId": "9b5da214-e56d-41a8-ad34-e1663175bd0b"
      },
      "execution_count": null,
      "outputs": [
        {
          "output_type": "stream",
          "name": "stdout",
          "text": [
            "0.6522409266926643\n",
            "\tLR__tol: 0.01\n"
          ]
        }
      ]
    },
    {
      "cell_type": "code",
      "source": [
        "pipeline2 = Pipeline([\n",
        "           ('vect', TfidfVectorizer(sublinear_tf=True, max_features=30000)),\n",
        "           ('LR', LogisticRegression(C=1, tol=0.01, solver=\"saga\")),\n",
        "])\n",
        "\n",
        "pipeline2.fit(train_features, train_labels)\n",
        "evaluation_summary(\"LR with TFIDF and parameter optimization\",  test_labels, pipeline2.predict(test_features), set(test_labels))"
      ],
      "metadata": {
        "colab": {
          "base_uri": "https://localhost:8080/"
        },
        "id": "oA02bwsmUOO3",
        "outputId": "5a55261f-8162-45d2-ff3b-0bcd315471b8"
      },
      "execution_count": null,
      "outputs": [
        {
          "output_type": "stream",
          "name": "stdout",
          "text": [
            "Evaluation for: LR with TFIDF and parameter optimization\n",
            "                precision    recall  f1-score   support\n",
            "\n",
            "        Coffee      0.911     0.911     0.911        56\n",
            "          Soda      1.000     0.816     0.899        38\n",
            "   HydroHomies      0.724     0.808     0.764        52\n",
            "      pcgaming      0.557     0.708     0.624        48\n",
            "           PS4      0.828     0.828     0.828        29\n",
            "       antiMLM      0.822     0.841     0.831        44\n",
            "           tea      0.667     0.596     0.629        47\n",
            "NintendoSwitch      0.902     0.881     0.892        42\n",
            "          xbox      0.811     0.682     0.741        44\n",
            "\n",
            "      accuracy                          0.785       400\n",
            "     macro avg      0.802     0.786     0.791       400\n",
            "  weighted avg      0.796     0.785     0.787       400\n",
            "\n"
          ]
        }
      ]
    },
    {
      "cell_type": "markdown",
      "source": [
        "### **A2a:**\n",
        "\n",
        "As shown from the results on the test set above, the new model with the tuned hyperparameters performs slightly better than the baseline.\n",
        "\n",
        "**Discussion on Parameters and Values Chosen:**\n",
        "\n",
        "**Regularisation C Value (LR):** For the inverse of regularisation strength, I tried values in the range [10e-3, 10e5] in powers of 10. After performing a Grid Search with these values, I found that C=1.0 worked best for improving the accuracy on the test set. Setting the C value too high or too low resulted in poor results, so the default value of 1.0 worked best. Since it is a penalty term, it is only natural that these extreme values were not good for the model.\n",
        "\n",
        "**Tolerance value (LR):** Tolerance is the parameter of choice that I experimented with for the classifier. I tried values in the range [10e-4, 10e4] in powers of 10. Having the stopping criteria set too high or too low resulted in poor results. A lower tolerance is always better since the algorithm might not converge if we choose very high or very low values.\n",
        "\n",
        "**Sublinear TF (TFIDFVectorizer):** For the Sublinear TF Scaling, setting the parameter to True showed a considerable improvement over setting it to False. This converts tf to 1+log(tf), which normalises term frequencies, preventing terms with very high occurences from dominating terms with low occurences in the corpus.\n",
        "\n",
        "**Max Features (TFIDFVectorizer):** For the Max Features, I experimented with values in the range [None, 50000] in intervals of 10000. Upon using Grid Search with these values, I found that all values gave similar results, but varied in terms of consistency when running experiments repeatedly. Setting max_features to 30000 consistently yielded similar f1-scores for me, so I picked this value."
      ],
      "metadata": {
        "id": "vTuOLywOnU5i"
      }
    },
    {
      "cell_type": "markdown",
      "source": [
        "### Q2b:"
      ],
      "metadata": {
        "id": "pIsRTiW-ABs8"
      }
    },
    {
      "cell_type": "code",
      "source": [
        "print(\"Ground Truth: \", test_labels[0:15])\n",
        "print(\"Predictions: \", list(pipeline2.predict(test_features))[0:15])"
      ],
      "metadata": {
        "colab": {
          "base_uri": "https://localhost:8080/"
        },
        "id": "H58JXKKDbauR",
        "outputId": "0680293a-9859-46fb-f573-20c328b71a9b"
      },
      "execution_count": null,
      "outputs": [
        {
          "output_type": "stream",
          "name": "stdout",
          "text": [
            "Ground Truth:  ['Coffee', 'NintendoSwitch', 'xbox', 'tea', 'antiMLM', 'tea', 'antiMLM', 'Coffee', 'pcgaming', 'Coffee', 'pcgaming', 'NintendoSwitch', 'pcgaming', 'PS4', 'Coffee']\n",
            "Predictions:  ['Coffee', 'NintendoSwitch', 'PS4', 'PS4', 'antiMLM', 'tea', 'pcgaming', 'Coffee', 'PS4', 'Coffee', 'pcgaming', 'antiMLM', 'pcgaming', 'pcgaming', 'Coffee']\n"
          ]
        }
      ]
    },
    {
      "cell_type": "code",
      "source": [
        "eli5.show_weights(pipeline2.steps[1][1], vec=pipeline2.steps[1][1], top=5)"
      ],
      "metadata": {
        "colab": {
          "base_uri": "https://localhost:8080/",
          "height": 251
        },
        "id": "VVHq4QI7Nxkf",
        "outputId": "2c86390f-d578-4fe3-8a6b-92e75c4a81cd"
      },
      "execution_count": null,
      "outputs": [
        {
          "output_type": "execute_result",
          "data": {
            "text/plain": [
              "<IPython.core.display.HTML object>"
            ],
            "text/html": [
              "\n",
              "    <style>\n",
              "    table.eli5-weights tr:hover {\n",
              "        filter: brightness(85%);\n",
              "    }\n",
              "</style>\n",
              "\n",
              "\n",
              "\n",
              "    \n",
              "\n",
              "    \n",
              "\n",
              "    \n",
              "\n",
              "    \n",
              "\n",
              "    \n",
              "\n",
              "    \n",
              "\n",
              "\n",
              "    \n",
              "\n",
              "    \n",
              "\n",
              "    \n",
              "\n",
              "    \n",
              "        \n",
              "\n",
              "    \n",
              "        <table class=\"eli5-weights-wrapper\" style=\"border-collapse: collapse; border: none; margin-bottom: 1.5em;\">\n",
              "            <tr>\n",
              "                \n",
              "                    <td style=\"padding: 0.5em; border: 1px solid black; text-align: center;\">\n",
              "                        <b>\n",
              "    \n",
              "        y=Coffee\n",
              "    \n",
              "</b>\n",
              "\n",
              "top features\n",
              "                    </td>\n",
              "                \n",
              "                    <td style=\"padding: 0.5em; border: 1px solid black; text-align: center;\">\n",
              "                        <b>\n",
              "    \n",
              "        y=HydroHomies\n",
              "    \n",
              "</b>\n",
              "\n",
              "top features\n",
              "                    </td>\n",
              "                \n",
              "                    <td style=\"padding: 0.5em; border: 1px solid black; text-align: center;\">\n",
              "                        <b>\n",
              "    \n",
              "        y=NintendoSwitch\n",
              "    \n",
              "</b>\n",
              "\n",
              "top features\n",
              "                    </td>\n",
              "                \n",
              "                    <td style=\"padding: 0.5em; border: 1px solid black; text-align: center;\">\n",
              "                        <b>\n",
              "    \n",
              "        y=PS4\n",
              "    \n",
              "</b>\n",
              "\n",
              "top features\n",
              "                    </td>\n",
              "                \n",
              "                    <td style=\"padding: 0.5em; border: 1px solid black; text-align: center;\">\n",
              "                        <b>\n",
              "    \n",
              "        y=Soda\n",
              "    \n",
              "</b>\n",
              "\n",
              "top features\n",
              "                    </td>\n",
              "                \n",
              "                    <td style=\"padding: 0.5em; border: 1px solid black; text-align: center;\">\n",
              "                        <b>\n",
              "    \n",
              "        y=antiMLM\n",
              "    \n",
              "</b>\n",
              "\n",
              "top features\n",
              "                    </td>\n",
              "                \n",
              "                    <td style=\"padding: 0.5em; border: 1px solid black; text-align: center;\">\n",
              "                        <b>\n",
              "    \n",
              "        y=pcgaming\n",
              "    \n",
              "</b>\n",
              "\n",
              "top features\n",
              "                    </td>\n",
              "                \n",
              "                    <td style=\"padding: 0.5em; border: 1px solid black; text-align: center;\">\n",
              "                        <b>\n",
              "    \n",
              "        y=tea\n",
              "    \n",
              "</b>\n",
              "\n",
              "top features\n",
              "                    </td>\n",
              "                \n",
              "                    <td style=\"padding: 0.5em; border: 1px solid black; text-align: center;\">\n",
              "                        <b>\n",
              "    \n",
              "        y=xbox\n",
              "    \n",
              "</b>\n",
              "\n",
              "top features\n",
              "                    </td>\n",
              "                \n",
              "            </tr>\n",
              "            <tr>\n",
              "                \n",
              "                    \n",
              "                        <td style=\"padding: 0px; border: 1px solid black; vertical-align: top;\">\n",
              "                            \n",
              "                                \n",
              "                                    \n",
              "                                    \n",
              "    \n",
              "    <table class=\"eli5-weights\"\n",
              "           style=\"border-collapse: collapse; border: none; margin-top: 0em; table-layout: auto; width: 100%;\">\n",
              "        <thead>\n",
              "        <tr style=\"border: none;\">\n",
              "            \n",
              "                <th style=\"padding: 0 1em 0 0.5em; text-align: right; border: none;\" title=\"Feature weights. Note that weights do not account for feature value scales, so if feature values have different scales, features with highest weights might not be the most important.\">\n",
              "                    Weight<sup>?</sup>\n",
              "                </th>\n",
              "            \n",
              "            <th style=\"padding: 0 0.5em 0 0.5em; text-align: left; border: none;\">Feature</th>\n",
              "            \n",
              "        </tr>\n",
              "        </thead>\n",
              "        <tbody>\n",
              "        \n",
              "            <tr style=\"background-color: hsl(120, 100.00%, 83.58%); border: none;\">\n",
              "    <td style=\"padding: 0 1em 0 0.5em; text-align: right; border: none;\">\n",
              "        +5.605\n",
              "    </td>\n",
              "    <td style=\"padding: 0 0.5em 0 0.5em; text-align: left; border: none;\">\n",
              "        x1702\n",
              "    </td>\n",
              "    \n",
              "</tr>\n",
              "        \n",
              "            <tr style=\"background-color: hsl(120, 100.00%, 92.27%); border: none;\">\n",
              "    <td style=\"padding: 0 1em 0 0.5em; text-align: right; border: none;\">\n",
              "        +1.909\n",
              "    </td>\n",
              "    <td style=\"padding: 0 0.5em 0 0.5em; text-align: left; border: none;\">\n",
              "        x2815\n",
              "    </td>\n",
              "    \n",
              "</tr>\n",
              "        \n",
              "            <tr style=\"background-color: hsl(120, 100.00%, 93.15%); border: none;\">\n",
              "    <td style=\"padding: 0 1em 0 0.5em; text-align: right; border: none;\">\n",
              "        +1.606\n",
              "    </td>\n",
              "    <td style=\"padding: 0 0.5em 0 0.5em; text-align: left; border: none;\">\n",
              "        x3569\n",
              "    </td>\n",
              "    \n",
              "</tr>\n",
              "        \n",
              "            <tr style=\"background-color: hsl(120, 100.00%, 93.35%); border: none;\">\n",
              "    <td style=\"padding: 0 1em 0 0.5em; text-align: right; border: none;\">\n",
              "        +1.541\n",
              "    </td>\n",
              "    <td style=\"padding: 0 0.5em 0 0.5em; text-align: left; border: none;\">\n",
              "        x999\n",
              "    </td>\n",
              "    \n",
              "</tr>\n",
              "        \n",
              "            <tr style=\"background-color: hsl(120, 100.00%, 93.75%); border: none;\">\n",
              "    <td style=\"padding: 0 1em 0 0.5em; text-align: right; border: none;\">\n",
              "        +1.410\n",
              "    </td>\n",
              "    <td style=\"padding: 0 0.5em 0 0.5em; text-align: left; border: none;\">\n",
              "        x4542\n",
              "    </td>\n",
              "    \n",
              "</tr>\n",
              "        \n",
              "        \n",
              "            <tr style=\"background-color: hsl(120, 100.00%, 93.75%); border: none;\">\n",
              "                <td colspan=\"2\" style=\"padding: 0 0.5em 0 0.5em; text-align: center; border: none; white-space: nowrap;\">\n",
              "                    <i>&hellip; 1791 more positive &hellip;</i>\n",
              "                </td>\n",
              "            </tr>\n",
              "        \n",
              "\n",
              "        \n",
              "            <tr style=\"background-color: hsl(0, 100.00%, 80.00%); border: none;\">\n",
              "                <td colspan=\"2\" style=\"padding: 0 0.5em 0 0.5em; text-align: center; border: none; white-space: nowrap;\">\n",
              "                    <i>&hellip; 6986 more negative &hellip;</i>\n",
              "                </td>\n",
              "            </tr>\n",
              "        \n",
              "        \n",
              "\n",
              "        </tbody>\n",
              "    </table>\n",
              "\n",
              "                                \n",
              "                            \n",
              "                        </td>\n",
              "                    \n",
              "                        <td style=\"padding: 0px; border: 1px solid black; vertical-align: top;\">\n",
              "                            \n",
              "                                \n",
              "                                    \n",
              "                                    \n",
              "    \n",
              "    <table class=\"eli5-weights\"\n",
              "           style=\"border-collapse: collapse; border: none; margin-top: 0em; table-layout: auto; width: 100%;\">\n",
              "        <thead>\n",
              "        <tr style=\"border: none;\">\n",
              "            \n",
              "                <th style=\"padding: 0 1em 0 0.5em; text-align: right; border: none;\" title=\"Feature weights. Note that weights do not account for feature value scales, so if feature values have different scales, features with highest weights might not be the most important.\">\n",
              "                    Weight<sup>?</sup>\n",
              "                </th>\n",
              "            \n",
              "            <th style=\"padding: 0 0.5em 0 0.5em; text-align: left; border: none;\">Feature</th>\n",
              "            \n",
              "        </tr>\n",
              "        </thead>\n",
              "        <tbody>\n",
              "        \n",
              "            <tr style=\"background-color: hsl(120, 100.00%, 81.94%); border: none;\">\n",
              "    <td style=\"padding: 0 1em 0 0.5em; text-align: right; border: none;\">\n",
              "        +6.421\n",
              "    </td>\n",
              "    <td style=\"padding: 0 0.5em 0 0.5em; text-align: left; border: none;\">\n",
              "        x8465\n",
              "    </td>\n",
              "    \n",
              "</tr>\n",
              "        \n",
              "            <tr style=\"background-color: hsl(120, 100.00%, 88.94%); border: none;\">\n",
              "    <td style=\"padding: 0 1em 0 0.5em; text-align: right; border: none;\">\n",
              "        +3.188\n",
              "    </td>\n",
              "    <td style=\"padding: 0 0.5em 0 0.5em; text-align: left; border: none;\">\n",
              "        x2558\n",
              "    </td>\n",
              "    \n",
              "</tr>\n",
              "        \n",
              "            <tr style=\"background-color: hsl(120, 100.00%, 93.76%); border: none;\">\n",
              "    <td style=\"padding: 0 1em 0 0.5em; text-align: right; border: none;\">\n",
              "        +1.405\n",
              "    </td>\n",
              "    <td style=\"padding: 0 0.5em 0 0.5em; text-align: left; border: none;\">\n",
              "        x3924\n",
              "    </td>\n",
              "    \n",
              "</tr>\n",
              "        \n",
              "            <tr style=\"background-color: hsl(120, 100.00%, 94.29%); border: none;\">\n",
              "    <td style=\"padding: 0 1em 0 0.5em; text-align: right; border: none;\">\n",
              "        +1.238\n",
              "    </td>\n",
              "    <td style=\"padding: 0 0.5em 0 0.5em; text-align: left; border: none;\">\n",
              "        x1202\n",
              "    </td>\n",
              "    \n",
              "</tr>\n",
              "        \n",
              "            <tr style=\"background-color: hsl(120, 100.00%, 94.51%); border: none;\">\n",
              "    <td style=\"padding: 0 1em 0 0.5em; text-align: right; border: none;\">\n",
              "        +1.172\n",
              "    </td>\n",
              "    <td style=\"padding: 0 0.5em 0 0.5em; text-align: left; border: none;\">\n",
              "        x3920\n",
              "    </td>\n",
              "    \n",
              "</tr>\n",
              "        \n",
              "        \n",
              "            <tr style=\"background-color: hsl(120, 100.00%, 94.51%); border: none;\">\n",
              "                <td colspan=\"2\" style=\"padding: 0 0.5em 0 0.5em; text-align: center; border: none; white-space: nowrap;\">\n",
              "                    <i>&hellip; 1093 more positive &hellip;</i>\n",
              "                </td>\n",
              "            </tr>\n",
              "        \n",
              "\n",
              "        \n",
              "            <tr style=\"background-color: hsl(0, 100.00%, 80.00%); border: none;\">\n",
              "                <td colspan=\"2\" style=\"padding: 0 0.5em 0 0.5em; text-align: center; border: none; white-space: nowrap;\">\n",
              "                    <i>&hellip; 7684 more negative &hellip;</i>\n",
              "                </td>\n",
              "            </tr>\n",
              "        \n",
              "        \n",
              "\n",
              "        </tbody>\n",
              "    </table>\n",
              "\n",
              "                                \n",
              "                            \n",
              "                        </td>\n",
              "                    \n",
              "                        <td style=\"padding: 0px; border: 1px solid black; vertical-align: top;\">\n",
              "                            \n",
              "                                \n",
              "                                    \n",
              "                                    \n",
              "    \n",
              "    <table class=\"eli5-weights\"\n",
              "           style=\"border-collapse: collapse; border: none; margin-top: 0em; table-layout: auto; width: 100%;\">\n",
              "        <thead>\n",
              "        <tr style=\"border: none;\">\n",
              "            \n",
              "                <th style=\"padding: 0 1em 0 0.5em; text-align: right; border: none;\" title=\"Feature weights. Note that weights do not account for feature value scales, so if feature values have different scales, features with highest weights might not be the most important.\">\n",
              "                    Weight<sup>?</sup>\n",
              "                </th>\n",
              "            \n",
              "            <th style=\"padding: 0 0.5em 0 0.5em; text-align: left; border: none;\">Feature</th>\n",
              "            \n",
              "        </tr>\n",
              "        </thead>\n",
              "        <tbody>\n",
              "        \n",
              "            <tr style=\"background-color: hsl(120, 100.00%, 86.26%); border: none;\">\n",
              "    <td style=\"padding: 0 1em 0 0.5em; text-align: right; border: none;\">\n",
              "        +4.345\n",
              "    </td>\n",
              "    <td style=\"padding: 0 0.5em 0 0.5em; text-align: left; border: none;\">\n",
              "        x7610\n",
              "    </td>\n",
              "    \n",
              "</tr>\n",
              "        \n",
              "            <tr style=\"background-color: hsl(120, 100.00%, 91.39%); border: none;\">\n",
              "    <td style=\"padding: 0 1em 0 0.5em; text-align: right; border: none;\">\n",
              "        +2.228\n",
              "    </td>\n",
              "    <td style=\"padding: 0 0.5em 0 0.5em; text-align: left; border: none;\">\n",
              "        x5275\n",
              "    </td>\n",
              "    \n",
              "</tr>\n",
              "        \n",
              "            <tr style=\"background-color: hsl(120, 100.00%, 91.57%); border: none;\">\n",
              "    <td style=\"padding: 0 1em 0 0.5em; text-align: right; border: none;\">\n",
              "        +2.162\n",
              "    </td>\n",
              "    <td style=\"padding: 0 0.5em 0 0.5em; text-align: left; border: none;\">\n",
              "        x3376\n",
              "    </td>\n",
              "    \n",
              "</tr>\n",
              "        \n",
              "            <tr style=\"background-color: hsl(120, 100.00%, 91.90%); border: none;\">\n",
              "    <td style=\"padding: 0 1em 0 0.5em; text-align: right; border: none;\">\n",
              "        +2.042\n",
              "    </td>\n",
              "    <td style=\"padding: 0 0.5em 0 0.5em; text-align: left; border: none;\">\n",
              "        x3370\n",
              "    </td>\n",
              "    \n",
              "</tr>\n",
              "        \n",
              "            <tr style=\"background-color: hsl(120, 100.00%, 93.79%); border: none;\">\n",
              "    <td style=\"padding: 0 1em 0 0.5em; text-align: right; border: none;\">\n",
              "        +1.399\n",
              "    </td>\n",
              "    <td style=\"padding: 0 0.5em 0 0.5em; text-align: left; border: none;\">\n",
              "        x4782\n",
              "    </td>\n",
              "    \n",
              "</tr>\n",
              "        \n",
              "        \n",
              "            <tr style=\"background-color: hsl(120, 100.00%, 93.79%); border: none;\">\n",
              "                <td colspan=\"2\" style=\"padding: 0 0.5em 0 0.5em; text-align: center; border: none; white-space: nowrap;\">\n",
              "                    <i>&hellip; 2261 more positive &hellip;</i>\n",
              "                </td>\n",
              "            </tr>\n",
              "        \n",
              "\n",
              "        \n",
              "            <tr style=\"background-color: hsl(0, 100.00%, 80.00%); border: none;\">\n",
              "                <td colspan=\"2\" style=\"padding: 0 0.5em 0 0.5em; text-align: center; border: none; white-space: nowrap;\">\n",
              "                    <i>&hellip; 6516 more negative &hellip;</i>\n",
              "                </td>\n",
              "            </tr>\n",
              "        \n",
              "        \n",
              "\n",
              "        </tbody>\n",
              "    </table>\n",
              "\n",
              "                                \n",
              "                            \n",
              "                        </td>\n",
              "                    \n",
              "                        <td style=\"padding: 0px; border: 1px solid black; vertical-align: top;\">\n",
              "                            \n",
              "                                \n",
              "                                    \n",
              "                                    \n",
              "    \n",
              "    <table class=\"eli5-weights\"\n",
              "           style=\"border-collapse: collapse; border: none; margin-top: 0em; table-layout: auto; width: 100%;\">\n",
              "        <thead>\n",
              "        <tr style=\"border: none;\">\n",
              "            \n",
              "                <th style=\"padding: 0 1em 0 0.5em; text-align: right; border: none;\" title=\"Feature weights. Note that weights do not account for feature value scales, so if feature values have different scales, features with highest weights might not be the most important.\">\n",
              "                    Weight<sup>?</sup>\n",
              "                </th>\n",
              "            \n",
              "            <th style=\"padding: 0 0.5em 0 0.5em; text-align: left; border: none;\">Feature</th>\n",
              "            \n",
              "        </tr>\n",
              "        </thead>\n",
              "        <tbody>\n",
              "        \n",
              "            <tr style=\"background-color: hsl(120, 100.00%, 86.15%); border: none;\">\n",
              "    <td style=\"padding: 0 1em 0 0.5em; text-align: right; border: none;\">\n",
              "        +4.395\n",
              "    </td>\n",
              "    <td style=\"padding: 0 0.5em 0 0.5em; text-align: left; border: none;\">\n",
              "        x6093\n",
              "    </td>\n",
              "    \n",
              "</tr>\n",
              "        \n",
              "            <tr style=\"background-color: hsl(120, 100.00%, 93.05%); border: none;\">\n",
              "    <td style=\"padding: 0 1em 0 0.5em; text-align: right; border: none;\">\n",
              "        +1.642\n",
              "    </td>\n",
              "    <td style=\"padding: 0 0.5em 0 0.5em; text-align: left; border: none;\">\n",
              "        x6089\n",
              "    </td>\n",
              "    \n",
              "</tr>\n",
              "        \n",
              "            <tr style=\"background-color: hsl(120, 100.00%, 93.42%); border: none;\">\n",
              "    <td style=\"padding: 0 1em 0 0.5em; text-align: right; border: none;\">\n",
              "        +1.516\n",
              "    </td>\n",
              "    <td style=\"padding: 0 0.5em 0 0.5em; text-align: left; border: none;\">\n",
              "        x3370\n",
              "    </td>\n",
              "    \n",
              "</tr>\n",
              "        \n",
              "        \n",
              "            <tr style=\"background-color: hsl(120, 100.00%, 93.42%); border: none;\">\n",
              "                <td colspan=\"2\" style=\"padding: 0 0.5em 0 0.5em; text-align: center; border: none; white-space: nowrap;\">\n",
              "                    <i>&hellip; 1490 more positive &hellip;</i>\n",
              "                </td>\n",
              "            </tr>\n",
              "        \n",
              "\n",
              "        \n",
              "            <tr style=\"background-color: hsl(0, 100.00%, 94.89%); border: none;\">\n",
              "                <td colspan=\"2\" style=\"padding: 0 0.5em 0 0.5em; text-align: center; border: none; white-space: nowrap;\">\n",
              "                    <i>&hellip; 7287 more negative &hellip;</i>\n",
              "                </td>\n",
              "            </tr>\n",
              "        \n",
              "        \n",
              "            <tr style=\"background-color: hsl(0, 100.00%, 94.89%); border: none;\">\n",
              "    <td style=\"padding: 0 1em 0 0.5em; text-align: right; border: none;\">\n",
              "        -1.056\n",
              "    </td>\n",
              "    <td style=\"padding: 0 0.5em 0 0.5em; text-align: left; border: none;\">\n",
              "        x5427\n",
              "    </td>\n",
              "    \n",
              "</tr>\n",
              "        \n",
              "            <tr style=\"background-color: hsl(0, 100.00%, 94.76%); border: none;\">\n",
              "    <td style=\"padding: 0 1em 0 0.5em; text-align: right; border: none;\">\n",
              "        -1.096\n",
              "    </td>\n",
              "    <td style=\"padding: 0 0.5em 0 0.5em; text-align: left; border: none;\">\n",
              "        x8465\n",
              "    </td>\n",
              "    \n",
              "</tr>\n",
              "        \n",
              "\n",
              "        </tbody>\n",
              "    </table>\n",
              "\n",
              "                                \n",
              "                            \n",
              "                        </td>\n",
              "                    \n",
              "                        <td style=\"padding: 0px; border: 1px solid black; vertical-align: top;\">\n",
              "                            \n",
              "                                \n",
              "                                    \n",
              "                                    \n",
              "    \n",
              "    <table class=\"eli5-weights\"\n",
              "           style=\"border-collapse: collapse; border: none; margin-top: 0em; table-layout: auto; width: 100%;\">\n",
              "        <thead>\n",
              "        <tr style=\"border: none;\">\n",
              "            \n",
              "                <th style=\"padding: 0 1em 0 0.5em; text-align: right; border: none;\" title=\"Feature weights. Note that weights do not account for feature value scales, so if feature values have different scales, features with highest weights might not be the most important.\">\n",
              "                    Weight<sup>?</sup>\n",
              "                </th>\n",
              "            \n",
              "            <th style=\"padding: 0 0.5em 0 0.5em; text-align: left; border: none;\">Feature</th>\n",
              "            \n",
              "        </tr>\n",
              "        </thead>\n",
              "        <tbody>\n",
              "        \n",
              "            <tr style=\"background-color: hsl(120, 100.00%, 88.52%); border: none;\">\n",
              "    <td style=\"padding: 0 1em 0 0.5em; text-align: right; border: none;\">\n",
              "        +3.362\n",
              "    </td>\n",
              "    <td style=\"padding: 0 0.5em 0 0.5em; text-align: left; border: none;\">\n",
              "        x7125\n",
              "    </td>\n",
              "    \n",
              "</tr>\n",
              "        \n",
              "            <tr style=\"background-color: hsl(120, 100.00%, 93.03%); border: none;\">\n",
              "    <td style=\"padding: 0 1em 0 0.5em; text-align: right; border: none;\">\n",
              "        +1.646\n",
              "    </td>\n",
              "    <td style=\"padding: 0 0.5em 0 0.5em; text-align: left; border: none;\">\n",
              "        x7129\n",
              "    </td>\n",
              "    \n",
              "</tr>\n",
              "        \n",
              "            <tr style=\"background-color: hsl(120, 100.00%, 94.92%); border: none;\">\n",
              "    <td style=\"padding: 0 1em 0 0.5em; text-align: right; border: none;\">\n",
              "        +1.049\n",
              "    </td>\n",
              "    <td style=\"padding: 0 0.5em 0 0.5em; text-align: left; border: none;\">\n",
              "        x6611\n",
              "    </td>\n",
              "    \n",
              "</tr>\n",
              "        \n",
              "            <tr style=\"background-color: hsl(120, 100.00%, 94.94%); border: none;\">\n",
              "    <td style=\"padding: 0 1em 0 0.5em; text-align: right; border: none;\">\n",
              "        +1.043\n",
              "    </td>\n",
              "    <td style=\"padding: 0 0.5em 0 0.5em; text-align: left; border: none;\">\n",
              "        x1205\n",
              "    </td>\n",
              "    \n",
              "</tr>\n",
              "        \n",
              "        \n",
              "            <tr style=\"background-color: hsl(120, 100.00%, 94.94%); border: none;\">\n",
              "                <td colspan=\"2\" style=\"padding: 0 0.5em 0 0.5em; text-align: center; border: none; white-space: nowrap;\">\n",
              "                    <i>&hellip; 1018 more positive &hellip;</i>\n",
              "                </td>\n",
              "            </tr>\n",
              "        \n",
              "\n",
              "        \n",
              "            <tr style=\"background-color: hsl(0, 100.00%, 94.67%); border: none;\">\n",
              "                <td colspan=\"2\" style=\"padding: 0 0.5em 0 0.5em; text-align: center; border: none; white-space: nowrap;\">\n",
              "                    <i>&hellip; 7759 more negative &hellip;</i>\n",
              "                </td>\n",
              "            </tr>\n",
              "        \n",
              "        \n",
              "            <tr style=\"background-color: hsl(0, 100.00%, 94.67%); border: none;\">\n",
              "    <td style=\"padding: 0 1em 0 0.5em; text-align: right; border: none;\">\n",
              "        -1.124\n",
              "    </td>\n",
              "    <td style=\"padding: 0 0.5em 0 0.5em; text-align: left; border: none;\">\n",
              "        x3370\n",
              "    </td>\n",
              "    \n",
              "</tr>\n",
              "        \n",
              "\n",
              "        </tbody>\n",
              "    </table>\n",
              "\n",
              "                                \n",
              "                            \n",
              "                        </td>\n",
              "                    \n",
              "                        <td style=\"padding: 0px; border: 1px solid black; vertical-align: top;\">\n",
              "                            \n",
              "                                \n",
              "                                    \n",
              "                                    \n",
              "    \n",
              "    <table class=\"eli5-weights\"\n",
              "           style=\"border-collapse: collapse; border: none; margin-top: 0em; table-layout: auto; width: 100%;\">\n",
              "        <thead>\n",
              "        <tr style=\"border: none;\">\n",
              "            \n",
              "                <th style=\"padding: 0 1em 0 0.5em; text-align: right; border: none;\" title=\"Feature weights. Note that weights do not account for feature value scales, so if feature values have different scales, features with highest weights might not be the most important.\">\n",
              "                    Weight<sup>?</sup>\n",
              "                </th>\n",
              "            \n",
              "            <th style=\"padding: 0 0.5em 0 0.5em; text-align: left; border: none;\">Feature</th>\n",
              "            \n",
              "        </tr>\n",
              "        </thead>\n",
              "        <tbody>\n",
              "        \n",
              "            <tr style=\"background-color: hsl(120, 100.00%, 89.09%); border: none;\">\n",
              "    <td style=\"padding: 0 1em 0 0.5em; text-align: right; border: none;\">\n",
              "        +3.125\n",
              "    </td>\n",
              "    <td style=\"padding: 0 0.5em 0 0.5em; text-align: left; border: none;\">\n",
              "        x5022\n",
              "    </td>\n",
              "    \n",
              "</tr>\n",
              "        \n",
              "            <tr style=\"background-color: hsl(120, 100.00%, 89.51%); border: none;\">\n",
              "    <td style=\"padding: 0 1em 0 0.5em; text-align: right; border: none;\">\n",
              "        +2.956\n",
              "    </td>\n",
              "    <td style=\"padding: 0 0.5em 0 0.5em; text-align: left; border: none;\">\n",
              "        x6901\n",
              "    </td>\n",
              "    \n",
              "</tr>\n",
              "        \n",
              "            <tr style=\"background-color: hsl(120, 100.00%, 90.54%); border: none;\">\n",
              "    <td style=\"padding: 0 1em 0 0.5em; text-align: right; border: none;\">\n",
              "        +2.550\n",
              "    </td>\n",
              "    <td style=\"padding: 0 0.5em 0 0.5em; text-align: left; border: none;\">\n",
              "        x3757\n",
              "    </td>\n",
              "    \n",
              "</tr>\n",
              "        \n",
              "            <tr style=\"background-color: hsl(120, 100.00%, 93.66%); border: none;\">\n",
              "    <td style=\"padding: 0 1em 0 0.5em; text-align: right; border: none;\">\n",
              "        +1.440\n",
              "    </td>\n",
              "    <td style=\"padding: 0 0.5em 0 0.5em; text-align: left; border: none;\">\n",
              "        x5025\n",
              "    </td>\n",
              "    \n",
              "</tr>\n",
              "        \n",
              "            <tr style=\"background-color: hsl(120, 100.00%, 93.83%); border: none;\">\n",
              "    <td style=\"padding: 0 1em 0 0.5em; text-align: right; border: none;\">\n",
              "        +1.385\n",
              "    </td>\n",
              "    <td style=\"padding: 0 0.5em 0 0.5em; text-align: left; border: none;\">\n",
              "        x7848\n",
              "    </td>\n",
              "    \n",
              "</tr>\n",
              "        \n",
              "        \n",
              "            <tr style=\"background-color: hsl(120, 100.00%, 93.83%); border: none;\">\n",
              "                <td colspan=\"2\" style=\"padding: 0 0.5em 0 0.5em; text-align: center; border: none; white-space: nowrap;\">\n",
              "                    <i>&hellip; 2307 more positive &hellip;</i>\n",
              "                </td>\n",
              "            </tr>\n",
              "        \n",
              "\n",
              "        \n",
              "            <tr style=\"background-color: hsl(0, 100.00%, 80.00%); border: none;\">\n",
              "                <td colspan=\"2\" style=\"padding: 0 0.5em 0 0.5em; text-align: center; border: none; white-space: nowrap;\">\n",
              "                    <i>&hellip; 6470 more negative &hellip;</i>\n",
              "                </td>\n",
              "            </tr>\n",
              "        \n",
              "        \n",
              "\n",
              "        </tbody>\n",
              "    </table>\n",
              "\n",
              "                                \n",
              "                            \n",
              "                        </td>\n",
              "                    \n",
              "                        <td style=\"padding: 0px; border: 1px solid black; vertical-align: top;\">\n",
              "                            \n",
              "                                \n",
              "                                    \n",
              "                                    \n",
              "    \n",
              "    <table class=\"eli5-weights\"\n",
              "           style=\"border-collapse: collapse; border: none; margin-top: 0em; table-layout: auto; width: 100%;\">\n",
              "        <thead>\n",
              "        <tr style=\"border: none;\">\n",
              "            \n",
              "                <th style=\"padding: 0 1em 0 0.5em; text-align: right; border: none;\" title=\"Feature weights. Note that weights do not account for feature value scales, so if feature values have different scales, features with highest weights might not be the most important.\">\n",
              "                    Weight<sup>?</sup>\n",
              "                </th>\n",
              "            \n",
              "            <th style=\"padding: 0 0.5em 0 0.5em; text-align: left; border: none;\">Feature</th>\n",
              "            \n",
              "        </tr>\n",
              "        </thead>\n",
              "        <tbody>\n",
              "        \n",
              "            <tr style=\"background-color: hsl(120, 100.00%, 91.06%); border: none;\">\n",
              "    <td style=\"padding: 0 1em 0 0.5em; text-align: right; border: none;\">\n",
              "        +2.351\n",
              "    </td>\n",
              "    <td style=\"padding: 0 0.5em 0 0.5em; text-align: left; border: none;\">\n",
              "        x5645\n",
              "    </td>\n",
              "    \n",
              "</tr>\n",
              "        \n",
              "            <tr style=\"background-color: hsl(120, 100.00%, 92.61%); border: none;\">\n",
              "    <td style=\"padding: 0 1em 0 0.5em; text-align: right; border: none;\">\n",
              "        +1.792\n",
              "    </td>\n",
              "    <td style=\"padding: 0 0.5em 0 0.5em; text-align: left; border: none;\">\n",
              "        x7346\n",
              "    </td>\n",
              "    \n",
              "</tr>\n",
              "        \n",
              "            <tr style=\"background-color: hsl(120, 100.00%, 92.81%); border: none;\">\n",
              "    <td style=\"padding: 0 1em 0 0.5em; text-align: right; border: none;\">\n",
              "        +1.721\n",
              "    </td>\n",
              "    <td style=\"padding: 0 0.5em 0 0.5em; text-align: left; border: none;\">\n",
              "        x3380\n",
              "    </td>\n",
              "    \n",
              "</tr>\n",
              "        \n",
              "            <tr style=\"background-color: hsl(120, 100.00%, 92.92%); border: none;\">\n",
              "    <td style=\"padding: 0 1em 0 0.5em; text-align: right; border: none;\">\n",
              "        +1.686\n",
              "    </td>\n",
              "    <td style=\"padding: 0 0.5em 0 0.5em; text-align: left; border: none;\">\n",
              "        x3370\n",
              "    </td>\n",
              "    \n",
              "</tr>\n",
              "        \n",
              "            <tr style=\"background-color: hsl(120, 100.00%, 94.95%); border: none;\">\n",
              "    <td style=\"padding: 0 1em 0 0.5em; text-align: right; border: none;\">\n",
              "        +1.041\n",
              "    </td>\n",
              "    <td style=\"padding: 0 0.5em 0 0.5em; text-align: left; border: none;\">\n",
              "        x3376\n",
              "    </td>\n",
              "    \n",
              "</tr>\n",
              "        \n",
              "        \n",
              "            <tr style=\"background-color: hsl(120, 100.00%, 94.95%); border: none;\">\n",
              "                <td colspan=\"2\" style=\"padding: 0 0.5em 0 0.5em; text-align: center; border: none; white-space: nowrap;\">\n",
              "                    <i>&hellip; 2131 more positive &hellip;</i>\n",
              "                </td>\n",
              "            </tr>\n",
              "        \n",
              "\n",
              "        \n",
              "            <tr style=\"background-color: hsl(0, 100.00%, 80.00%); border: none;\">\n",
              "                <td colspan=\"2\" style=\"padding: 0 0.5em 0 0.5em; text-align: center; border: none; white-space: nowrap;\">\n",
              "                    <i>&hellip; 6646 more negative &hellip;</i>\n",
              "                </td>\n",
              "            </tr>\n",
              "        \n",
              "        \n",
              "\n",
              "        </tbody>\n",
              "    </table>\n",
              "\n",
              "                                \n",
              "                            \n",
              "                        </td>\n",
              "                    \n",
              "                        <td style=\"padding: 0px; border: 1px solid black; vertical-align: top;\">\n",
              "                            \n",
              "                                \n",
              "                                    \n",
              "                                    \n",
              "    \n",
              "    <table class=\"eli5-weights\"\n",
              "           style=\"border-collapse: collapse; border: none; margin-top: 0em; table-layout: auto; width: 100%;\">\n",
              "        <thead>\n",
              "        <tr style=\"border: none;\">\n",
              "            \n",
              "                <th style=\"padding: 0 1em 0 0.5em; text-align: right; border: none;\" title=\"Feature weights. Note that weights do not account for feature value scales, so if feature values have different scales, features with highest weights might not be the most important.\">\n",
              "                    Weight<sup>?</sup>\n",
              "                </th>\n",
              "            \n",
              "            <th style=\"padding: 0 0.5em 0 0.5em; text-align: left; border: none;\">Feature</th>\n",
              "            \n",
              "        </tr>\n",
              "        </thead>\n",
              "        <tbody>\n",
              "        \n",
              "            <tr style=\"background-color: hsl(120, 100.00%, 80.00%); border: none;\">\n",
              "    <td style=\"padding: 0 1em 0 0.5em; text-align: right; border: none;\">\n",
              "        +7.427\n",
              "    </td>\n",
              "    <td style=\"padding: 0 0.5em 0 0.5em; text-align: left; border: none;\">\n",
              "        x7705\n",
              "    </td>\n",
              "    \n",
              "</tr>\n",
              "        \n",
              "            <tr style=\"background-color: hsl(120, 100.00%, 90.86%); border: none;\">\n",
              "    <td style=\"padding: 0 1em 0 0.5em; text-align: right; border: none;\">\n",
              "        +2.426\n",
              "    </td>\n",
              "    <td style=\"padding: 0 0.5em 0 0.5em; text-align: left; border: none;\">\n",
              "        x7720\n",
              "    </td>\n",
              "    \n",
              "</tr>\n",
              "        \n",
              "            <tr style=\"background-color: hsl(120, 100.00%, 94.98%); border: none;\">\n",
              "    <td style=\"padding: 0 1em 0 0.5em; text-align: right; border: none;\">\n",
              "        +1.032\n",
              "    </td>\n",
              "    <td style=\"padding: 0 0.5em 0 0.5em; text-align: left; border: none;\">\n",
              "        x4673\n",
              "    </td>\n",
              "    \n",
              "</tr>\n",
              "        \n",
              "        \n",
              "            <tr style=\"background-color: hsl(120, 100.00%, 94.98%); border: none;\">\n",
              "                <td colspan=\"2\" style=\"padding: 0 0.5em 0 0.5em; text-align: center; border: none; white-space: nowrap;\">\n",
              "                    <i>&hellip; 1739 more positive &hellip;</i>\n",
              "                </td>\n",
              "            </tr>\n",
              "        \n",
              "\n",
              "        \n",
              "            <tr style=\"background-color: hsl(0, 100.00%, 95.09%); border: none;\">\n",
              "                <td colspan=\"2\" style=\"padding: 0 0.5em 0 0.5em; text-align: center; border: none; white-space: nowrap;\">\n",
              "                    <i>&hellip; 7038 more negative &hellip;</i>\n",
              "                </td>\n",
              "            </tr>\n",
              "        \n",
              "        \n",
              "            <tr style=\"background-color: hsl(0, 100.00%, 95.09%); border: none;\">\n",
              "    <td style=\"padding: 0 1em 0 0.5em; text-align: right; border: none;\">\n",
              "        -0.997\n",
              "    </td>\n",
              "    <td style=\"padding: 0 0.5em 0 0.5em; text-align: left; border: none;\">\n",
              "        x3376\n",
              "    </td>\n",
              "    \n",
              "</tr>\n",
              "        \n",
              "            <tr style=\"background-color: hsl(0, 100.00%, 94.52%); border: none;\">\n",
              "    <td style=\"padding: 0 1em 0 0.5em; text-align: right; border: none;\">\n",
              "        -1.167\n",
              "    </td>\n",
              "    <td style=\"padding: 0 0.5em 0 0.5em; text-align: left; border: none;\">\n",
              "        x3370\n",
              "    </td>\n",
              "    \n",
              "</tr>\n",
              "        \n",
              "\n",
              "        </tbody>\n",
              "    </table>\n",
              "\n",
              "                                \n",
              "                            \n",
              "                        </td>\n",
              "                    \n",
              "                        <td style=\"padding: 0px; border: 1px solid black; vertical-align: top;\">\n",
              "                            \n",
              "                                \n",
              "                                    \n",
              "                                    \n",
              "    \n",
              "    <table class=\"eli5-weights\"\n",
              "           style=\"border-collapse: collapse; border: none; margin-top: 0em; table-layout: auto; width: 100%;\">\n",
              "        <thead>\n",
              "        <tr style=\"border: none;\">\n",
              "            \n",
              "                <th style=\"padding: 0 1em 0 0.5em; text-align: right; border: none;\" title=\"Feature weights. Note that weights do not account for feature value scales, so if feature values have different scales, features with highest weights might not be the most important.\">\n",
              "                    Weight<sup>?</sup>\n",
              "                </th>\n",
              "            \n",
              "            <th style=\"padding: 0 0.5em 0 0.5em; text-align: left; border: none;\">Feature</th>\n",
              "            \n",
              "        </tr>\n",
              "        </thead>\n",
              "        <tbody>\n",
              "        \n",
              "            <tr style=\"background-color: hsl(120, 100.00%, 85.05%); border: none;\">\n",
              "    <td style=\"padding: 0 1em 0 0.5em; text-align: right; border: none;\">\n",
              "        +4.901\n",
              "    </td>\n",
              "    <td style=\"padding: 0 0.5em 0 0.5em; text-align: left; border: none;\">\n",
              "        x8690\n",
              "    </td>\n",
              "    \n",
              "</tr>\n",
              "        \n",
              "            <tr style=\"background-color: hsl(120, 100.00%, 89.08%); border: none;\">\n",
              "    <td style=\"padding: 0 1em 0 0.5em; text-align: right; border: none;\">\n",
              "        +3.127\n",
              "    </td>\n",
              "    <td style=\"padding: 0 0.5em 0 0.5em; text-align: left; border: none;\">\n",
              "        x6854\n",
              "    </td>\n",
              "    \n",
              "</tr>\n",
              "        \n",
              "            <tr style=\"background-color: hsl(120, 100.00%, 92.20%); border: none;\">\n",
              "    <td style=\"padding: 0 1em 0 0.5em; text-align: right; border: none;\">\n",
              "        +1.934\n",
              "    </td>\n",
              "    <td style=\"padding: 0 0.5em 0 0.5em; text-align: left; border: none;\">\n",
              "        x1909\n",
              "    </td>\n",
              "    \n",
              "</tr>\n",
              "        \n",
              "            <tr style=\"background-color: hsl(120, 100.00%, 93.76%); border: none;\">\n",
              "    <td style=\"padding: 0 1em 0 0.5em; text-align: right; border: none;\">\n",
              "        +1.408\n",
              "    </td>\n",
              "    <td style=\"padding: 0 0.5em 0 0.5em; text-align: left; border: none;\">\n",
              "        x5807\n",
              "    </td>\n",
              "    \n",
              "</tr>\n",
              "        \n",
              "            <tr style=\"background-color: hsl(120, 100.00%, 94.94%); border: none;\">\n",
              "    <td style=\"padding: 0 1em 0 0.5em; text-align: right; border: none;\">\n",
              "        +1.044\n",
              "    </td>\n",
              "    <td style=\"padding: 0 0.5em 0 0.5em; text-align: left; border: none;\">\n",
              "        x5427\n",
              "    </td>\n",
              "    \n",
              "</tr>\n",
              "        \n",
              "        \n",
              "            <tr style=\"background-color: hsl(120, 100.00%, 94.94%); border: none;\">\n",
              "                <td colspan=\"2\" style=\"padding: 0 0.5em 0 0.5em; text-align: center; border: none; white-space: nowrap;\">\n",
              "                    <i>&hellip; 1091 more positive &hellip;</i>\n",
              "                </td>\n",
              "            </tr>\n",
              "        \n",
              "\n",
              "        \n",
              "            <tr style=\"background-color: hsl(0, 100.00%, 80.00%); border: none;\">\n",
              "                <td colspan=\"2\" style=\"padding: 0 0.5em 0 0.5em; text-align: center; border: none; white-space: nowrap;\">\n",
              "                    <i>&hellip; 7686 more negative &hellip;</i>\n",
              "                </td>\n",
              "            </tr>\n",
              "        \n",
              "        \n",
              "\n",
              "        </tbody>\n",
              "    </table>\n",
              "\n",
              "                                \n",
              "                            \n",
              "                        </td>\n",
              "                    \n",
              "                \n",
              "            </tr>\n",
              "        </table>\n",
              "    \n",
              "\n",
              "    \n",
              "        \n",
              "\n",
              "\n",
              "    \n",
              "        \n",
              "\n",
              "\n",
              "    \n",
              "        \n",
              "\n",
              "\n",
              "    \n",
              "        \n",
              "\n",
              "\n",
              "    \n",
              "        \n",
              "\n",
              "\n",
              "    \n",
              "        \n",
              "\n",
              "\n",
              "    \n",
              "        \n",
              "\n",
              "\n",
              "    \n",
              "        \n",
              "\n",
              "\n",
              "    \n",
              "        \n",
              "\n",
              "\n",
              "    \n",
              "\n",
              "\n",
              "    \n",
              "\n",
              "    \n",
              "\n",
              "    \n",
              "\n",
              "\n",
              "    \n",
              "\n",
              "    \n",
              "\n",
              "    \n",
              "\n",
              "    \n",
              "\n",
              "    \n",
              "\n",
              "    \n",
              "\n",
              "\n",
              "    \n",
              "\n",
              "    \n",
              "\n",
              "    \n",
              "\n",
              "    \n",
              "\n",
              "    \n",
              "\n",
              "    \n",
              "\n",
              "\n",
              "\n"
            ]
          },
          "metadata": {},
          "execution_count": 103
        }
      ]
    },
    {
      "cell_type": "code",
      "source": [
        "\n",
        "fig, ax = plt.subplots(figsize=(10, 10))\n",
        "ConfusionMatrixDisplay.from_predictions(test_labels, pipeline2.predict(test_features), ax=ax)"
      ],
      "metadata": {
        "colab": {
          "base_uri": "https://localhost:8080/",
          "height": 598
        },
        "id": "fgNTXFdyI2C3",
        "outputId": "5f9ba36d-6441-43dc-ad70-6ebc94bcfa0a"
      },
      "execution_count": null,
      "outputs": [
        {
          "output_type": "execute_result",
          "data": {
            "text/plain": [
              "<sklearn.metrics._plot.confusion_matrix.ConfusionMatrixDisplay at 0x7f7b6ca29cd0>"
            ]
          },
          "metadata": {},
          "execution_count": 104
        },
        {
          "output_type": "display_data",
          "data": {
            "text/plain": [
              "<Figure size 720x720 with 2 Axes>"
            ],
            "image/png": "[encoded data removed]"
          },
          "metadata": {
            "needs_background": "light"
          }
        }
      ]
    },
    {
      "cell_type": "markdown",
      "source": [
        "### **A2b:**\n",
        "\n",
        "**Error Analysis:**\n",
        "\n",
        "Upon examining the results of the predictions made by the updated model, I observed that the model performs well on the unseen data (the test set). It manages to get most subreddit labels right.\n",
        "\n",
        "However, one recurring trend I noticed within the predictions was one that the classifier regularly confused gaming-related subreddits such as \"PS4\", \"xbox\", \"NintendoSwitch\" and \"pcgaming\". This could be the indication as to why the PS4 subreddit has such low f1-scores across all the classifiers used so far. \n",
        "\n",
        "There was also some confusion between the tea and Coffee subreddits.\n",
        "\n",
        "Usually, common classification errors are made when there is ambiguity when classifying certain instances (false positives).\n",
        "\n",
        "For analysing this, I manually looked at the ground truth labels and the predictions and also plotted the confusion matrix. It is clear from the confusion matrix that sometimes the classifier gets confused between the **gaming subreddits** (possibly due to similar content in the posts like names of videogames, gaming terminologies, hardware, mentions of other gaming subreddits etc).\n",
        "\n",
        "On some rare occasions, the classifier may misclassify a label say for instance, coffee as pcgaming, which is not uncommon as classifers can't be 100% accurate and there might be a lot of off-topic terms in certain posts.\n",
        "\n",
        "I have also used eli5 to show the top 5 individual feature weights for each label. It is evident from the results that the \"PS4\" and \"NintendoSwitch\" and \"xbox\" subreddits have similar top feature weights which might explain the classifier confusing the two.\n"
      ],
      "metadata": {
        "id": "V6m2fL2FwLzl"
      }
    },
    {
      "cell_type": "markdown",
      "source": [
        "## Q3:"
      ],
      "metadata": {
        "id": "BWs7YqOOAbLp"
      }
    },
    {
      "cell_type": "markdown",
      "source": [
        "This cell declares a function for selecting columns from pandas dataframes. This will be passed to a feature union pipeline later on.\n",
        "\n",
        "I have also defined a spaCy tokeniser used in previous labs to try and improve performance using feature union."
      ],
      "metadata": {
        "id": "NG4YMSfZ4ykB"
      }
    },
    {
      "cell_type": "code",
      "source": [
        "nlp = spacy.load('en_core_web_sm', disable=['ner'])\n",
        "nlp.remove_pipe('tagger')\n",
        "nlp.remove_pipe('parser')\n",
        "\n",
        "def text_pipeline_spacy(text):\n",
        "    tokens = []\n",
        "    doc = nlp(text)\n",
        "    for t in doc:\n",
        "        if not t.is_stop and not t.is_punct and not t.is_space:\n",
        "            tokens.append(t.lemma_.lower())\n",
        "    return tokens \n",
        "    \n",
        "class ItemSelector(BaseEstimator, TransformerMixin):\n",
        "    \"\"\"For data grouped by feature, select subset of data at a provided key.    \"\"\"\n",
        "\n",
        "    def __init__(self, key):\n",
        "        self.key = key\n",
        "\n",
        "    def fit(self, x, y=None):\n",
        "        return self\n",
        "\n",
        "    def transform(self, data_dict):\n",
        "        return data_dict[self.key]        "
      ],
      "metadata": {
        "id": "4g2h9DI_lQVG"
      },
      "execution_count": null,
      "outputs": []
    },
    {
      "cell_type": "markdown",
      "source": [
        "### Q3a:"
      ],
      "metadata": {
        "id": "lOpWB9pMAcri"
      }
    },
    {
      "cell_type": "code",
      "source": [
        "pipeline3 = Pipeline([('union', FeatureUnion(\n",
        "          transformer_list=[\n",
        "            ('body', Pipeline([\n",
        "              ('selector', ItemSelector(key=\"body\")),\n",
        "              ('TFIDF', TfidfVectorizer(sublinear_tf=True, max_features=30000)), \n",
        "              ])),\n",
        "            ('title', Pipeline([\n",
        "              ('selector', ItemSelector(key=\"title\")),\n",
        "              ('TFIDF', TfidfVectorizer(sublinear_tf=True, max_features=30000)), \n",
        "              ])),\n",
        "            ('body2', Pipeline([\n",
        "              ('selector', ItemSelector(key=\"body\")),\n",
        "              ('One-Hot', TfidfVectorizer(tokenizer=text_pipeline_spacy, sublinear_tf=True, max_features=30000)), \n",
        "              ])),\n",
        "            ('title2', Pipeline([\n",
        "              ('selector', ItemSelector(key=\"title\")),\n",
        "              ('One-Hot', TfidfVectorizer(tokenizer=text_pipeline_spacy, sublinear_tf=True, max_features=30000)), \n",
        "              ])),              \n",
        "        ])\n",
        "        ),\n",
        "           ('LR', LogisticRegression(C=1, tol=0.01, solver=\"saga\")),\n",
        "])"
      ],
      "metadata": {
        "id": "HdCvILEShS2A"
      },
      "execution_count": null,
      "outputs": []
    },
    {
      "cell_type": "markdown",
      "source": [
        "### **A3a:**\n",
        "\n",
        "The two features I have chosen for my pipeline are:\n",
        "\n",
        "1. Reddit Post Titles\n",
        "2. TFIDF Vectoriser with spaCy tokeniser\n",
        "\n",
        "**Justification:**\n",
        "\n",
        "1. I chose the post titles to add as an additional feature because they can also contain useful tokens regarding the subreddit it belongs to. It is essentially another line of text which can simply be added to the original posts as features and then tokenised. I saw a 2% increase in accuracy after implementing this feature.\n",
        "\n",
        "2. I have also chosen to add more TFIDF features to the pipeline but with spaCy tokenisation. The spaCy tokeniser is much better than the default pre-processor used by the TFIDFVectorizer since the default one explicitly ignores punctuation. Adding TFIDF features and spaCy tokenisation with feature union helped in improving the classification accuracy by about 2.5%. I also incorporated the same hyperparameters from the tuned model which further improved performance.\n"
      ],
      "metadata": {
        "id": "W5dGupQR49KS"
      }
    },
    {
      "cell_type": "markdown",
      "source": [
        "### Q3b:"
      ],
      "metadata": {
        "id": "ymz5BE7NAgZM"
      }
    },
    {
      "cell_type": "code",
      "source": [
        "pipeline3.fit(pd.DataFrame(train_data), train_labels)"
      ],
      "metadata": {
        "colab": {
          "base_uri": "https://localhost:8080/"
        },
        "id": "wYvLHihfx5ze",
        "outputId": "9fc3494d-bad2-4d69-d4f8-66cc0e5dd806"
      },
      "execution_count": null,
      "outputs": [
        {
          "output_type": "execute_result",
          "data": {
            "text/plain": [
              "Pipeline(steps=[('union',\n",
              "                 FeatureUnion(transformer_list=[('body',\n",
              "                                                 Pipeline(steps=[('selector',\n",
              "                                                                  ItemSelector(key='body')),\n",
              "                                                                 ('TFIDF',\n",
              "                                                                  TfidfVectorizer(max_features=30000,\n",
              "                                                                                  sublinear_tf=True))])),\n",
              "                                                ('title',\n",
              "                                                 Pipeline(steps=[('selector',\n",
              "                                                                  ItemSelector(key='title')),\n",
              "                                                                 ('TFIDF',\n",
              "                                                                  TfidfVectorizer(max_features=30000,\n",
              "                                                                                  sublinear_tf=True))])),\n",
              "                                                ('body2',\n",
              "                                                 Pipeline(steps=[('selecto...\n",
              "                                                                  TfidfVectorizer(max_features=30000,\n",
              "                                                                                  sublinear_tf=True,\n",
              "                                                                                  tokenizer=<function text_pipeline_spacy at 0x7f7b6c9a2170>))])),\n",
              "                                                ('title2',\n",
              "                                                 Pipeline(steps=[('selector',\n",
              "                                                                  ItemSelector(key='title')),\n",
              "                                                                 ('One-Hot',\n",
              "                                                                  TfidfVectorizer(max_features=30000,\n",
              "                                                                                  sublinear_tf=True,\n",
              "                                                                                  tokenizer=<function text_pipeline_spacy at 0x7f7b6c9a2170>))]))])),\n",
              "                ('LR', LogisticRegression(C=1, solver='saga', tol=0.01))])"
            ]
          },
          "metadata": {},
          "execution_count": 107
        }
      ]
    },
    {
      "cell_type": "markdown",
      "source": [
        "### **A3b:**\n",
        "\n",
        "Here I have trained the new models on the training set. I have used the same evaluation metrics as before, namely accuracy, macro/weighted-averaged precision, recall, and f1-score on the test set, as seen in the table provided below.\n",
        "\n",
        "\n"
      ],
      "metadata": {
        "id": "dZN3SjGC6hZ_"
      }
    },
    {
      "cell_type": "markdown",
      "source": [
        "### Q3c:"
      ],
      "metadata": {
        "id": "NSw1OczAAgb3"
      }
    },
    {
      "cell_type": "code",
      "source": [
        "evaluation_summary(\"LR with TFIDF and parameter optimization\",  test_labels, pipeline3.predict(pd.DataFrame(test_data)), set(test_labels))\n",
        "\n",
        "fig2, ax2 = plt.subplots(figsize=(10, 10))\n",
        "ConfusionMatrixDisplay.from_predictions(test_labels, pipeline3.predict(pd.DataFrame(test_data)), ax=ax2)"
      ],
      "metadata": {
        "colab": {
          "base_uri": "https://localhost:8080/",
          "height": 908
        },
        "id": "ENppCvyEy-cu",
        "outputId": "c1e82887-a15b-4162-c005-edd7eb164820"
      },
      "execution_count": null,
      "outputs": [
        {
          "output_type": "stream",
          "name": "stdout",
          "text": [
            "Evaluation for: LR with TFIDF and parameter optimization\n",
            "                precision    recall  f1-score   support\n",
            "\n",
            "        Coffee      0.981     0.929     0.954        56\n",
            "          Soda      0.944     0.895     0.919        38\n",
            "   HydroHomies      0.750     0.865     0.804        52\n",
            "      pcgaming      0.673     0.729     0.700        48\n",
            "           PS4      0.871     0.931     0.900        29\n",
            "       antiMLM      0.830     0.886     0.857        44\n",
            "           tea      0.721     0.660     0.689        47\n",
            "NintendoSwitch      0.951     0.929     0.940        42\n",
            "          xbox      0.892     0.750     0.815        44\n",
            "\n",
            "      accuracy                          0.838       400\n",
            "     macro avg      0.846     0.841     0.842       400\n",
            "  weighted avg      0.842     0.838     0.838       400\n",
            "\n"
          ]
        },
        {
          "output_type": "execute_result",
          "data": {
            "text/plain": [
              "<sklearn.metrics._plot.confusion_matrix.ConfusionMatrixDisplay at 0x7f7b69d51cd0>"
            ]
          },
          "metadata": {},
          "execution_count": 108
        },
        {
          "output_type": "display_data",
          "data": {
            "text/plain": [
              "<Figure size 720x720 with 2 Axes>"
            ],
            "image/png": "[encoded data removed]"
          },
          "metadata": {
            "needs_background": "light"
          }
        }
      ]
    },
    {
      "cell_type": "markdown",
      "source": [
        "### **A3c:**\n",
        "\n",
        "From the evaulation metrics observed in the table, it is clear that the model with new features is appreciably more accurate than the ones observed in Q1 and Q2. The weighted average f1-score, precision and recall are all improved by decent margins. Some subreddits show more than 90% classification accuracy.\n",
        "\n",
        "The confusion between the PS4, NintendoSwitch and pcgaming subreddits, and between the tea and Coffee subreddits has been mitigated by a good amount.\n",
        "\n",
        "The new features worked well because it gives the classifier additional data to work with. The vectorizer with the new tokenisation approach (spacy) also helped a lot with the classification accuracy."
      ],
      "metadata": {
        "id": "Hh6-ash291Tv"
      }
    },
    {
      "cell_type": "code",
      "source": [],
      "metadata": {
        "id": "uD1GCMlB52jf"
      },
      "execution_count": null,
      "outputs": []
    }
  ]
}